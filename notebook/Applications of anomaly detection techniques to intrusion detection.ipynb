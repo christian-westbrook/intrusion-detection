{
 "cells": [
  {
   "cell_type": "markdown",
   "metadata": {},
   "source": [
    "# Applications of Anomaly Detection Techniques to Intrusion Detection"
   ]
  },
  {
   "cell_type": "markdown",
   "metadata": {},
   "source": [
    "## Before You Begin\n",
    "\n",
    "This section contains important information about executing the code in this notebook along with an alternative way to access the source code. If you don't plan on executing any code yourself, feel free to skip this section.\n",
    "\n",
    "Many of the models used in this work were generated using the sklearn package. This package does not include support for processing with GPUs. This, combined with a large dataset, means that some of the models generated in this notebook can take a significant amount of time to build. This is something to keep in mind if you are planning to run these experiments yourself.\n",
    "\n",
    "Some of the source code in this notebook makes assumptions about where you are running it. If you are planning on executing the code in this notebook, ensure that you are either running it within a clone of the [associated repository](https://github.com/christian-westbrook/intrusion-detection) at its default location, or that you understand how to adapt relative file paths to meet your needs. A good way to determine if a block of code makes this assumption is to look for instances where the `os` module is being used. If you aren't sure, feel free to clone a fresh copy of the repository and run your new copy of the notebook at its default location.\n",
    "\n",
    "This notebook contains more than just source code. If you're only interested in using the source code, you may prefer to use our scripts instead of this notebook. These scripts are located in the root `/scripts` directory. For instructions on how to use them, refer to the README located in the root directory of the repository."
   ]
  },
  {
   "cell_type": "markdown",
   "metadata": {},
   "source": [
    "## Imports\n",
    "\n",
    "- *pandas* for processing and rendering tabular data\n",
    "- *glob* for enabling dynamic interfacing with the file system\n",
    "- *kaggle* for interfacing with [Kaggle](https://www.kaggle.com/)\n",
    "- *os* for interfacing with the machine where this notebook is being ran\n",
    "- *zipfile* for managing .zip archives\n",
    "- *sklearn* for modeling and evaluation metrics\n",
    "- *numpy* for vector and matrix processing\n",
    "- *scipy* for probabilistic processing"
   ]
  },
  {
   "cell_type": "code",
   "execution_count": 1,
   "metadata": {},
   "outputs": [],
   "source": [
    "# Data Management\n",
    "import pandas\n",
    "\n",
    "# External Interfaces\n",
    "import glob\n",
    "import kaggle\n",
    "import os\n",
    "from zipfile import ZipFile\n",
    "\n",
    "# Evaluation\n",
    "from sklearn.metrics import roc_auc_score\n",
    "from sklearn.metrics import precision_score\n",
    "from sklearn.metrics import recall_score\n",
    "from sklearn.model_selection import train_test_split\n",
    "\n",
    "# Processing\n",
    "import numpy\n",
    "import scipy\n",
    "from scipy.stats import chi2\n",
    "\n",
    "# Modeling\n",
    "from sklearn.linear_model import LinearRegression\n",
    "from sklearn.decomposition import PCA\n",
    "from sklearn import svm\n",
    "from sklearn.svm import OneClassSVM\n",
    "from sklearn.neighbors import KNeighborsClassifier\n",
    "from sklearn.cluster import KMeans\n",
    "from sklearn.neighbors import LocalOutlierFactor\n",
    "from sklearn.ensemble import IsolationForest"
   ]
  },
  {
   "cell_type": "markdown",
   "metadata": {},
   "source": [
    "## Introduction\n",
    "\n",
    "The goal of this work is to explore how existing anomaly detection techniques can be applied to the domain of intrusion detection. To this end we perform a series of experiments testing well-known anomaly detection techniques against the CICIDS2017 dataset of network intrusion events.\n",
    "\n",
    "We begin by exploring the given dataset and preparing its data to serve as input to our models. We then continue with a series of experiments, each demonstrating the effectiveness of a particular anomaly detection technique for the task of classifying whether network traffic events were benign or malicious. These experiments can be considered binary classification tasks with imabalanced classes. Our evaluation metric for each technique is the area under the receiver operating characteristic curve."
   ]
  },
  {
   "cell_type": "markdown",
   "metadata": {},
   "source": [
    "## Defining Terms"
   ]
  },
  {
   "cell_type": "markdown",
   "metadata": {},
   "source": [
    "***AUROC*** - Area under the receiver operating characteristic curve  \n",
    "***CICIDS2017*** - A dataset of simulated packet capture events containing both benign and attack events  \n",
    "***Mahalanobis distance*** - A measure of the distance between a point and a distribution  \n",
    "***ROC*** - Receiver operating characteristic curve representing the true positive rate plotted against the false positive rate at all classification thresholds"
   ]
  },
  {
   "cell_type": "markdown",
   "metadata": {},
   "source": [
    "## Loading Data"
   ]
  },
  {
   "cell_type": "markdown",
   "metadata": {},
   "source": [
    "In this section we describe how to retrieve the dataset used in this notebook. There is more than one way to retreive the dataset. Use either of the following methods to retrieve the dataset and prepare it for use in the rest of the notebook."
   ]
  },
  {
   "cell_type": "markdown",
   "metadata": {},
   "source": [
    "### Method 1: Manual Retrieval from Kaggle"
   ]
  },
  {
   "cell_type": "markdown",
   "metadata": {},
   "source": [
    "#### Requirements\n",
    "\n",
    "You need to have an account with [Kaggle](https://www.kaggle.com/). The dataset is retrievable from [a hosted location on Kaggle](https://www.kaggle.com/cicdataset/cicids2017). To prepare the data for use in this notebook, start by navigating to the dataset on Kaggle using the following link and downloading the dataset.\n",
    "\n",
    "https://www.kaggle.com/cicdataset/cicids2017\n",
    "\n",
    "Extract the contents of this .zip archive file into the root `/data` directory. Explore the contents of the extracted archive and move all .csv files from their sub-directories into the root `/data` directory. The following script will expect that all .csv files from the dataset are located in the root `/data` directory. Use the `combine_and_pickle()` script to merge the separate CSV files into a single pickled dataset for a simplified processing experience."
   ]
  },
  {
   "cell_type": "markdown",
   "metadata": {},
   "source": [
    "#### Automated Combination and Pickling"
   ]
  },
  {
   "cell_type": "code",
   "execution_count": null,
   "metadata": {},
   "outputs": [],
   "source": [
    "# ------------------------------------------------------------------------------\n",
    "# Function : combine_and_pickle()\n",
    "# Engineer : Christian Westbrook\n",
    "# Abstract : This function begins by defining all of the CSV files that are\n",
    "#            expected from the dataset. Each CSV is loaded into a pandas\n",
    "#            dataframe and then appended to a list of dataframes. Once all CSV\n",
    "#            files have been loaded into dataframes, the dataframes are merged\n",
    "#            into a single large dataframe representing the dataset. This final\n",
    "#            dataframe is then written to disk in pickle format.\n",
    "# ------------------------------------------------------------------------------\n",
    "def combine_and_pickle():\n",
    "    # Grab all CSV file paths in the root /data directory\n",
    "    file_paths = glob.glob(\"../data/**/*.csv\", recursive=True)\n",
    "\n",
    "    # Read each CSV into a pandas dataframe\n",
    "    frames = []\n",
    "    for index, path in enumerate(file_paths):\n",
    "        frames.append(pandas.read_csv(path))\n",
    "\n",
    "    # Merge dataframes vertically\n",
    "    combined_frame = pandas.concat(frames, axis=0)\n",
    "    \n",
    "    # Reset row indices\n",
    "    combined_frame.reset_index(drop=True)\n",
    "\n",
    "    # Write combined dataframe to disk\n",
    "    combined_frame = combined_frame.to_pickle(\"../data/cicids2017.pkl\")\n",
    "\n",
    "    # Clean up the root /data directory\n",
    "    for index, path in enumerate(file_paths):\n",
    "        os.remove(path)\n",
    "    os.rmdir(\"../data/MachineLearningCSV/MachineLearningCVE/\")\n",
    "    os.rmdir(\"../data/MachineLearningCSV/\")\n",
    "    os.remove(\"../data/cicids2017.zip\")\n",
    "    os.remove(\"../data/MachineLearningCSV.md5\")"
   ]
  },
  {
   "cell_type": "code",
   "execution_count": null,
   "metadata": {},
   "outputs": [],
   "source": [
    "combine_and_pickle()"
   ]
  },
  {
   "cell_type": "markdown",
   "metadata": {},
   "source": [
    "### Method 2: Automated Retrieval from Kaggle"
   ]
  },
  {
   "cell_type": "markdown",
   "metadata": {},
   "source": [
    "#### Requirements\n",
    "\n",
    "You need to have an account with [Kaggle](https://www.kaggle.com/). Once you have an account, navigate to Kaggle and then to the 'Account' tab of your user profile. Scroll down until you find the button 'Create New API Token'. Use this button to download an API token that will allow you to retrieve the dataset using the following script. On a machine running Windows 10, place the Kaggle API token at `C:\\Users\\<Windows-username>\\.kaggle\\kaggle.json`."
   ]
  },
  {
   "cell_type": "markdown",
   "metadata": {},
   "source": [
    "#### Automated Retrieval, Combination, and Pickling"
   ]
  },
  {
   "cell_type": "code",
   "execution_count": null,
   "metadata": {},
   "outputs": [],
   "source": [
    "# ------------------------------------------------------------------------------\n",
    "# Function : retrieve_combine_and_pickle()\n",
    "# Engineer : Christian Westbrook\n",
    "# Abstract : This function begins by defining all of the CSV files that are\n",
    "#            expected from the dataset. Each CSV is loaded into a pandas\n",
    "#            dataframe and then appended to a list of dataframes. Once all CSV\n",
    "#            files have been loaded into dataframes, the dataframes are merged\n",
    "#            into a single large dataframe representing the dataset. This final\n",
    "#            dataframe is then written to disk in pickle format.\n",
    "# ------------------------------------------------------------------------------\n",
    "def retrieve_combine_and_pickle():\n",
    "    # Check if a root /data directory exists, and create it if it doesn't\n",
    "    if not os.path.exists(\"../data/\"):\n",
    "        os.makedirs(\"../data\")\n",
    "\n",
    "    # Retrieve the dataset in .zip archive format\n",
    "    !kaggle datasets download cicdataset/cicids2017 -q\n",
    "\n",
    "    # Move the dataset into the root /data directory.\n",
    "    #!mv cicids2017.zip ../data/\n",
    "    os.replace(\"./cicids2017.zip\", \"../data/cicids2017.zip\")\n",
    "\n",
    "    # Unzip the dataset in place\n",
    "    with ZipFile('../data/cicids2017.zip', 'r') as zipObj:\n",
    "       zipObj.extractall(path=\"../data/\")\n",
    "    \n",
    "    # Grab all CSV file paths in the root /data directory\n",
    "    file_paths = glob.glob(\"../data/**/*.csv\", recursive=True)\n",
    "\n",
    "    # Move all CSV files from the unzipped folder structure into the root /data directory\n",
    "    for index, path in enumerate(file_paths):\n",
    "        os.replace(path, \"../data/\" + path.split(\"\\\\\")[len(path.split(\"\\\\\")) - 1])\n",
    "        \n",
    "    # Grab all CSV file paths in the root /data directory\n",
    "    file_paths = glob.glob(\"../data/**/*.csv\", recursive=True)\n",
    "\n",
    "    # Read each CSV into a pandas dataframe\n",
    "    frames = []\n",
    "    for index, path in enumerate(file_paths):\n",
    "        frames.append(pandas.read_csv(path))\n",
    "\n",
    "    # Merge dataframes vertically\n",
    "    combined_frame = pandas.concat(frames, axis=0)\n",
    "    \n",
    "    # Reset row indices\n",
    "    combined_frame = combined_frame.reset_index(drop=True)\n",
    "\n",
    "    # Write combined dataframe to disk\n",
    "    combined_frame.to_pickle(\"../data/cicids2017.pkl\")\n",
    "\n",
    "    # Clean up the root /data directory\n",
    "    for index, path in enumerate(file_paths):\n",
    "        os.remove(path)\n",
    "    os.rmdir(\"../data/MachineLearningCSV/MachineLearningCVE/\")\n",
    "    os.rmdir(\"../data/MachineLearningCSV/\")\n",
    "    os.remove(\"../data/cicids2017.zip\")\n",
    "    os.remove(\"../data/MachineLearningCSV.md5\")"
   ]
  },
  {
   "cell_type": "code",
   "execution_count": null,
   "metadata": {},
   "outputs": [],
   "source": [
    "retrieve_combine_and_pickle()"
   ]
  },
  {
   "cell_type": "markdown",
   "metadata": {},
   "source": [
    "## File Information\n",
    "\n",
    "The [CICIDS2017 dataset](https://www.kaggle.com/cicdataset/cicids2017) is a collection of simulated packet capture events labelled as either benign or attack events. This dataset was generated by the Canadian Institute for Cybersecurity and the University of New Brunswick. The authors set up separate attack and victim networks, each being a complete network topology consisting of routers, firewalls, switches, and with nineteen end-user machines between the two. The authors used a machine-learning model to simulate benign network traffic for five consecutive days, during which they also manually executed a series of common web attacks against the victim network from the attack network. All network traffic that occured on the victim network during this time period was captured and labeled, resulting in the given dataset. \n",
    "\n",
    "The following is an example of records taken from the dataset."
   ]
  },
  {
   "cell_type": "code",
   "execution_count": 2,
   "metadata": {
    "scrolled": true
   },
   "outputs": [
    {
     "data": {
      "text/html": [
       "<div>\n",
       "<style scoped>\n",
       "    .dataframe tbody tr th:only-of-type {\n",
       "        vertical-align: middle;\n",
       "    }\n",
       "\n",
       "    .dataframe tbody tr th {\n",
       "        vertical-align: top;\n",
       "    }\n",
       "\n",
       "    .dataframe thead th {\n",
       "        text-align: right;\n",
       "    }\n",
       "</style>\n",
       "<table border=\"1\" class=\"dataframe\">\n",
       "  <thead>\n",
       "    <tr style=\"text-align: right;\">\n",
       "      <th></th>\n",
       "      <th>Destination Port</th>\n",
       "      <th>Flow Duration</th>\n",
       "      <th>Total Fwd Packets</th>\n",
       "      <th>Total Backward Packets</th>\n",
       "      <th>Total Length of Fwd Packets</th>\n",
       "      <th>Total Length of Bwd Packets</th>\n",
       "      <th>Fwd Packet Length Max</th>\n",
       "      <th>Fwd Packet Length Min</th>\n",
       "      <th>Fwd Packet Length Mean</th>\n",
       "      <th>Fwd Packet Length Std</th>\n",
       "      <th>...</th>\n",
       "      <th>min_seg_size_forward</th>\n",
       "      <th>Active Mean</th>\n",
       "      <th>Active Std</th>\n",
       "      <th>Active Max</th>\n",
       "      <th>Active Min</th>\n",
       "      <th>Idle Mean</th>\n",
       "      <th>Idle Std</th>\n",
       "      <th>Idle Max</th>\n",
       "      <th>Idle Min</th>\n",
       "      <th>Label</th>\n",
       "    </tr>\n",
       "  </thead>\n",
       "  <tbody>\n",
       "    <tr>\n",
       "      <th>0</th>\n",
       "      <td>54865</td>\n",
       "      <td>3</td>\n",
       "      <td>2</td>\n",
       "      <td>0</td>\n",
       "      <td>12</td>\n",
       "      <td>0</td>\n",
       "      <td>6</td>\n",
       "      <td>6</td>\n",
       "      <td>6.0</td>\n",
       "      <td>0.0</td>\n",
       "      <td>...</td>\n",
       "      <td>20</td>\n",
       "      <td>0.0</td>\n",
       "      <td>0.0</td>\n",
       "      <td>0</td>\n",
       "      <td>0</td>\n",
       "      <td>0.0</td>\n",
       "      <td>0.0</td>\n",
       "      <td>0</td>\n",
       "      <td>0</td>\n",
       "      <td>BENIGN</td>\n",
       "    </tr>\n",
       "    <tr>\n",
       "      <th>1</th>\n",
       "      <td>55054</td>\n",
       "      <td>109</td>\n",
       "      <td>1</td>\n",
       "      <td>1</td>\n",
       "      <td>6</td>\n",
       "      <td>6</td>\n",
       "      <td>6</td>\n",
       "      <td>6</td>\n",
       "      <td>6.0</td>\n",
       "      <td>0.0</td>\n",
       "      <td>...</td>\n",
       "      <td>20</td>\n",
       "      <td>0.0</td>\n",
       "      <td>0.0</td>\n",
       "      <td>0</td>\n",
       "      <td>0</td>\n",
       "      <td>0.0</td>\n",
       "      <td>0.0</td>\n",
       "      <td>0</td>\n",
       "      <td>0</td>\n",
       "      <td>BENIGN</td>\n",
       "    </tr>\n",
       "    <tr>\n",
       "      <th>2</th>\n",
       "      <td>55055</td>\n",
       "      <td>52</td>\n",
       "      <td>1</td>\n",
       "      <td>1</td>\n",
       "      <td>6</td>\n",
       "      <td>6</td>\n",
       "      <td>6</td>\n",
       "      <td>6</td>\n",
       "      <td>6.0</td>\n",
       "      <td>0.0</td>\n",
       "      <td>...</td>\n",
       "      <td>20</td>\n",
       "      <td>0.0</td>\n",
       "      <td>0.0</td>\n",
       "      <td>0</td>\n",
       "      <td>0</td>\n",
       "      <td>0.0</td>\n",
       "      <td>0.0</td>\n",
       "      <td>0</td>\n",
       "      <td>0</td>\n",
       "      <td>BENIGN</td>\n",
       "    </tr>\n",
       "    <tr>\n",
       "      <th>3</th>\n",
       "      <td>46236</td>\n",
       "      <td>34</td>\n",
       "      <td>1</td>\n",
       "      <td>1</td>\n",
       "      <td>6</td>\n",
       "      <td>6</td>\n",
       "      <td>6</td>\n",
       "      <td>6</td>\n",
       "      <td>6.0</td>\n",
       "      <td>0.0</td>\n",
       "      <td>...</td>\n",
       "      <td>20</td>\n",
       "      <td>0.0</td>\n",
       "      <td>0.0</td>\n",
       "      <td>0</td>\n",
       "      <td>0</td>\n",
       "      <td>0.0</td>\n",
       "      <td>0.0</td>\n",
       "      <td>0</td>\n",
       "      <td>0</td>\n",
       "      <td>BENIGN</td>\n",
       "    </tr>\n",
       "    <tr>\n",
       "      <th>4</th>\n",
       "      <td>54863</td>\n",
       "      <td>3</td>\n",
       "      <td>2</td>\n",
       "      <td>0</td>\n",
       "      <td>12</td>\n",
       "      <td>0</td>\n",
       "      <td>6</td>\n",
       "      <td>6</td>\n",
       "      <td>6.0</td>\n",
       "      <td>0.0</td>\n",
       "      <td>...</td>\n",
       "      <td>20</td>\n",
       "      <td>0.0</td>\n",
       "      <td>0.0</td>\n",
       "      <td>0</td>\n",
       "      <td>0</td>\n",
       "      <td>0.0</td>\n",
       "      <td>0.0</td>\n",
       "      <td>0</td>\n",
       "      <td>0</td>\n",
       "      <td>BENIGN</td>\n",
       "    </tr>\n",
       "  </tbody>\n",
       "</table>\n",
       "<p>5 rows × 79 columns</p>\n",
       "</div>"
      ],
      "text/plain": [
       "    Destination Port   Flow Duration   Total Fwd Packets  \\\n",
       "0              54865               3                   2   \n",
       "1              55054             109                   1   \n",
       "2              55055              52                   1   \n",
       "3              46236              34                   1   \n",
       "4              54863               3                   2   \n",
       "\n",
       "    Total Backward Packets  Total Length of Fwd Packets  \\\n",
       "0                        0                           12   \n",
       "1                        1                            6   \n",
       "2                        1                            6   \n",
       "3                        1                            6   \n",
       "4                        0                           12   \n",
       "\n",
       "    Total Length of Bwd Packets   Fwd Packet Length Max  \\\n",
       "0                             0                       6   \n",
       "1                             6                       6   \n",
       "2                             6                       6   \n",
       "3                             6                       6   \n",
       "4                             0                       6   \n",
       "\n",
       "    Fwd Packet Length Min   Fwd Packet Length Mean   Fwd Packet Length Std  \\\n",
       "0                       6                      6.0                     0.0   \n",
       "1                       6                      6.0                     0.0   \n",
       "2                       6                      6.0                     0.0   \n",
       "3                       6                      6.0                     0.0   \n",
       "4                       6                      6.0                     0.0   \n",
       "\n",
       "   ...   min_seg_size_forward  Active Mean   Active Std   Active Max  \\\n",
       "0  ...                     20          0.0          0.0            0   \n",
       "1  ...                     20          0.0          0.0            0   \n",
       "2  ...                     20          0.0          0.0            0   \n",
       "3  ...                     20          0.0          0.0            0   \n",
       "4  ...                     20          0.0          0.0            0   \n",
       "\n",
       "    Active Min  Idle Mean   Idle Std   Idle Max   Idle Min   Label  \n",
       "0            0        0.0        0.0          0          0  BENIGN  \n",
       "1            0        0.0        0.0          0          0  BENIGN  \n",
       "2            0        0.0        0.0          0          0  BENIGN  \n",
       "3            0        0.0        0.0          0          0  BENIGN  \n",
       "4            0        0.0        0.0          0          0  BENIGN  \n",
       "\n",
       "[5 rows x 79 columns]"
      ]
     },
     "execution_count": 2,
     "metadata": {},
     "output_type": "execute_result"
    }
   ],
   "source": [
    "frame = pandas.read_pickle('../data/cicids2017.pkl')\n",
    "frame.head()"
   ]
  },
  {
   "cell_type": "markdown",
   "metadata": {},
   "source": [
    "## Data Exploration"
   ]
  },
  {
   "cell_type": "markdown",
   "metadata": {},
   "source": [
    "Before building any models it's important that we understand the nature of our data. In this section we'll explore the dataset for nuances and note any properties we find that could potentially impact our ability to apply anomaly detection techniques."
   ]
  },
  {
   "cell_type": "markdown",
   "metadata": {},
   "source": [
    "We'll first load a fresh instance of the dataset."
   ]
  },
  {
   "cell_type": "code",
   "execution_count": 2,
   "metadata": {},
   "outputs": [],
   "source": [
    "frame = pandas.read_pickle('../data/cicids2017.pkl')"
   ]
  },
  {
   "cell_type": "markdown",
   "metadata": {},
   "source": [
    "Let's start our exploration by assessing the dimensions of the given dataset."
   ]
  },
  {
   "cell_type": "code",
   "execution_count": 3,
   "metadata": {
    "scrolled": true
   },
   "outputs": [
    {
     "name": "stdout",
     "output_type": "stream",
     "text": [
      "Row Count : 2830743\n",
      "Column Count : 79\n"
     ]
    }
   ],
   "source": [
    "row_count = len(frame.index)\n",
    "col_count = len(frame.columns)\n",
    "\n",
    "print(\"Row Count : \" + str(row_count))\n",
    "print(\"Column Count : \" + str(col_count))"
   ]
  },
  {
   "cell_type": "markdown",
   "metadata": {},
   "source": [
    "There are nearly 3,000,000 packet capture events stored in this dataset across 79 tracked columns. This is a good size for a dataset that should be large enough to contribute to the development of useful models while remaining small enough to allow for many experiments in a short amount of time."
   ]
  },
  {
   "cell_type": "markdown",
   "metadata": {},
   "source": [
    "It's important to understand the nature of the columns being tracked. We have two categorical columns, one being the target label and the other being the destination port number. The other 77 columns are all numerical, with some being discrete and others being continuous."
   ]
  },
  {
   "cell_type": "code",
   "execution_count": 4,
   "metadata": {
    "scrolled": true
   },
   "outputs": [
    {
     "name": "stdout",
     "output_type": "stream",
     "text": [
      " Destination Port : int64\n",
      " Flow Duration : int64\n",
      " Total Fwd Packets : int64\n",
      " Total Backward Packets : int64\n",
      "Total Length of Fwd Packets : int64\n",
      " Total Length of Bwd Packets : int64\n",
      " Fwd Packet Length Max : int64\n",
      " Fwd Packet Length Min : int64\n",
      " Fwd Packet Length Mean : float64\n",
      " Fwd Packet Length Std : float64\n",
      "Bwd Packet Length Max : int64\n",
      " Bwd Packet Length Min : int64\n",
      " Bwd Packet Length Mean : float64\n",
      " Bwd Packet Length Std : float64\n",
      "Flow Bytes/s : float64\n",
      " Flow Packets/s : float64\n",
      " Flow IAT Mean : float64\n",
      " Flow IAT Std : float64\n",
      " Flow IAT Max : int64\n",
      " Flow IAT Min : int64\n",
      "Fwd IAT Total : int64\n",
      " Fwd IAT Mean : float64\n",
      " Fwd IAT Std : float64\n",
      " Fwd IAT Max : int64\n",
      " Fwd IAT Min : int64\n",
      "Bwd IAT Total : int64\n",
      " Bwd IAT Mean : float64\n",
      " Bwd IAT Std : float64\n",
      " Bwd IAT Max : int64\n",
      " Bwd IAT Min : int64\n",
      "Fwd PSH Flags : int64\n",
      " Bwd PSH Flags : int64\n",
      " Fwd URG Flags : int64\n",
      " Bwd URG Flags : int64\n",
      " Fwd Header Length : int64\n",
      " Bwd Header Length : int64\n",
      "Fwd Packets/s : float64\n",
      " Bwd Packets/s : float64\n",
      " Min Packet Length : int64\n",
      " Max Packet Length : int64\n",
      " Packet Length Mean : float64\n",
      " Packet Length Std : float64\n",
      " Packet Length Variance : float64\n",
      "FIN Flag Count : int64\n",
      " SYN Flag Count : int64\n",
      " RST Flag Count : int64\n",
      " PSH Flag Count : int64\n",
      " ACK Flag Count : int64\n",
      " URG Flag Count : int64\n",
      " CWE Flag Count : int64\n",
      " ECE Flag Count : int64\n",
      " Down/Up Ratio : int64\n",
      " Average Packet Size : float64\n",
      " Avg Fwd Segment Size : float64\n",
      " Avg Bwd Segment Size : float64\n",
      " Fwd Header Length.1 : int64\n",
      "Fwd Avg Bytes/Bulk : int64\n",
      " Fwd Avg Packets/Bulk : int64\n",
      " Fwd Avg Bulk Rate : int64\n",
      " Bwd Avg Bytes/Bulk : int64\n",
      " Bwd Avg Packets/Bulk : int64\n",
      "Bwd Avg Bulk Rate : int64\n",
      "Subflow Fwd Packets : int64\n",
      " Subflow Fwd Bytes : int64\n",
      " Subflow Bwd Packets : int64\n",
      " Subflow Bwd Bytes : int64\n",
      "Init_Win_bytes_forward : int64\n",
      " Init_Win_bytes_backward : int64\n",
      " act_data_pkt_fwd : int64\n",
      " min_seg_size_forward : int64\n",
      "Active Mean : float64\n",
      " Active Std : float64\n",
      " Active Max : int64\n",
      " Active Min : int64\n",
      "Idle Mean : float64\n",
      " Idle Std : float64\n",
      " Idle Max : int64\n",
      " Idle Min : int64\n",
      " Label : object\n"
     ]
    }
   ],
   "source": [
    "for index, type in enumerate(frame.dtypes):\n",
    "    print(frame.columns[index] + \" : \" + str(frame.dtypes[index]))"
   ]
  },
  {
   "cell_type": "markdown",
   "metadata": {},
   "source": [
    "The data type of the Destination Port column in particular needs additional consideration. Port numbers are indeed integers, but they are categorical labels rather than quantitative numerical values."
   ]
  },
  {
   "cell_type": "markdown",
   "metadata": {},
   "source": [
    "Let us now consider the different target labels provided by the dataset."
   ]
  },
  {
   "cell_type": "code",
   "execution_count": 5,
   "metadata": {
    "scrolled": true
   },
   "outputs": [
    {
     "data": {
      "text/plain": [
       "array(['BENIGN', 'DDoS', 'PortScan', 'Bot', 'Infiltration',\n",
       "       'Web Attack � Brute Force', 'Web Attack � XSS',\n",
       "       'Web Attack � Sql Injection', 'FTP-Patator', 'SSH-Patator',\n",
       "       'DoS slowloris', 'DoS Slowhttptest', 'DoS Hulk', 'DoS GoldenEye',\n",
       "       'Heartbleed'], dtype=object)"
      ]
     },
     "execution_count": 5,
     "metadata": {},
     "output_type": "execute_result"
    }
   ],
   "source": [
    "frame[' Label'].unique()"
   ]
  },
  {
   "cell_type": "code",
   "execution_count": 6,
   "metadata": {},
   "outputs": [
    {
     "data": {
      "text/plain": [
       "15"
      ]
     },
     "execution_count": 6,
     "metadata": {},
     "output_type": "execute_result"
    }
   ],
   "source": [
    "len(frame[' Label'].unique())"
   ]
  },
  {
   "cell_type": "markdown",
   "metadata": {},
   "source": [
    "The target labels indicate whether a particular packet was benign or if it resulted from an attempted web attack, and also specify what kind of attack was performed. There are 15 unique labels, one of which indicates a benign packet and the other 14 representing web attacks."
   ]
  },
  {
   "cell_type": "markdown",
   "metadata": {},
   "source": [
    "Next let's check our data for any null values."
   ]
  },
  {
   "cell_type": "code",
   "execution_count": 7,
   "metadata": {},
   "outputs": [
    {
     "name": "stdout",
     "output_type": "stream",
     "text": [
      "Flow Bytes/s : 1358 null values\n"
     ]
    }
   ],
   "source": [
    "for index, sum in enumerate(frame.isnull().sum()):\n",
    "    if sum > 0:\n",
    "        print(frame.columns[index] + \" : \" + str(sum) + \" null values\")"
   ]
  },
  {
   "cell_type": "markdown",
   "metadata": {},
   "source": [
    "It appears that a small selection of records are missing values in one column. We'll want to consider how best to handle records with missing values."
   ]
  },
  {
   "cell_type": "markdown",
   "metadata": {},
   "source": [
    "Another important characteristic of our dataset to understand is the division of our data into labels. How many malicious packets are there in comparison to benign packets?"
   ]
  },
  {
   "cell_type": "code",
   "execution_count": 8,
   "metadata": {
    "scrolled": true
   },
   "outputs": [
    {
     "name": "stdout",
     "output_type": "stream",
     "text": [
      "0 records processed\n",
      "100000 records processed\n",
      "200000 records processed\n",
      "300000 records processed\n",
      "400000 records processed\n",
      "500000 records processed\n",
      "600000 records processed\n",
      "700000 records processed\n",
      "800000 records processed\n",
      "900000 records processed\n",
      "1000000 records processed\n",
      "1100000 records processed\n",
      "1200000 records processed\n",
      "1300000 records processed\n",
      "1400000 records processed\n",
      "1500000 records processed\n",
      "1600000 records processed\n",
      "1700000 records processed\n",
      "1800000 records processed\n",
      "1900000 records processed\n",
      "2000000 records processed\n",
      "2100000 records processed\n",
      "2200000 records processed\n",
      "2300000 records processed\n",
      "2400000 records processed\n",
      "2500000 records processed\n",
      "2600000 records processed\n",
      "2700000 records processed\n",
      "2800000 records processed\n"
     ]
    },
    {
     "data": {
      "text/plain": [
       "{'BENIGN': 2273097,\n",
       " 'DDoS': 128027,\n",
       " 'PortScan': 158930,\n",
       " 'Bot': 1966,\n",
       " 'Infiltration': 36,\n",
       " 'Web Attack � Brute Force': 1507,\n",
       " 'Web Attack � XSS': 652,\n",
       " 'Web Attack � Sql Injection': 21,\n",
       " 'FTP-Patator': 7938,\n",
       " 'SSH-Patator': 5897,\n",
       " 'DoS slowloris': 5796,\n",
       " 'DoS Slowhttptest': 5499,\n",
       " 'DoS Hulk': 231073,\n",
       " 'DoS GoldenEye': 10293,\n",
       " 'Heartbleed': 11}"
      ]
     },
     "execution_count": 8,
     "metadata": {},
     "output_type": "execute_result"
    }
   ],
   "source": [
    "label_counts = {}\n",
    "\n",
    "for i in range(0, len(frame)):\n",
    "    label = frame.loc[i][78]\n",
    "    if label not in label_counts:\n",
    "        label_counts[label] = 1\n",
    "    else:\n",
    "        label_counts[label] = label_counts[label] + 1\n",
    "    \n",
    "    if i % 100000 == 0:\n",
    "        print(str(i) + \" records processed\")\n",
    "\n",
    "label_counts"
   ]
  },
  {
   "cell_type": "markdown",
   "metadata": {},
   "source": [
    "80.3% of all packets captured in this dataset were benign, leaving 19.7% to be malicious. Of the malicious packets, the vast majority were generated by some form of denial-of-service type attack."
   ]
  },
  {
   "cell_type": "markdown",
   "metadata": {},
   "source": [
    "## Preprocessing"
   ]
  },
  {
   "cell_type": "markdown",
   "metadata": {},
   "source": [
    "In this section we'll perform any tasks required to prepare our dataset for input into our models."
   ]
  },
  {
   "cell_type": "markdown",
   "metadata": {},
   "source": [
    "Let's start by loading in a fresh instance of the dataset."
   ]
  },
  {
   "cell_type": "code",
   "execution_count": 2,
   "metadata": {},
   "outputs": [],
   "source": [
    "frame = pandas.read_pickle('../data/cicids2017.pkl')"
   ]
  },
  {
   "cell_type": "markdown",
   "metadata": {},
   "source": [
    "The first thing that I'd like to address is a number of unnecessary space characters present in some column names but not in others."
   ]
  },
  {
   "cell_type": "code",
   "execution_count": 3,
   "metadata": {
    "scrolled": true
   },
   "outputs": [
    {
     "name": "stdout",
     "output_type": "stream",
     "text": [
      " Destination Port\n",
      " Flow Duration\n",
      " Total Fwd Packets\n",
      " Total Backward Packets\n",
      "Total Length of Fwd Packets\n",
      " Total Length of Bwd Packets\n",
      " Fwd Packet Length Max\n",
      " Fwd Packet Length Min\n",
      " Fwd Packet Length Mean\n",
      " Fwd Packet Length Std\n",
      "Bwd Packet Length Max\n",
      " Bwd Packet Length Min\n",
      " Bwd Packet Length Mean\n",
      " Bwd Packet Length Std\n",
      "Flow Bytes/s\n",
      " Flow Packets/s\n",
      " Flow IAT Mean\n",
      " Flow IAT Std\n",
      " Flow IAT Max\n",
      " Flow IAT Min\n",
      "Fwd IAT Total\n",
      " Fwd IAT Mean\n",
      " Fwd IAT Std\n",
      " Fwd IAT Max\n",
      " Fwd IAT Min\n",
      "Bwd IAT Total\n",
      " Bwd IAT Mean\n",
      " Bwd IAT Std\n",
      " Bwd IAT Max\n",
      " Bwd IAT Min\n",
      "Fwd PSH Flags\n",
      " Bwd PSH Flags\n",
      " Fwd URG Flags\n",
      " Bwd URG Flags\n",
      " Fwd Header Length\n",
      " Bwd Header Length\n",
      "Fwd Packets/s\n",
      " Bwd Packets/s\n",
      " Min Packet Length\n",
      " Max Packet Length\n",
      " Packet Length Mean\n",
      " Packet Length Std\n",
      " Packet Length Variance\n",
      "FIN Flag Count\n",
      " SYN Flag Count\n",
      " RST Flag Count\n",
      " PSH Flag Count\n",
      " ACK Flag Count\n",
      " URG Flag Count\n",
      " CWE Flag Count\n",
      " ECE Flag Count\n",
      " Down/Up Ratio\n",
      " Average Packet Size\n",
      " Avg Fwd Segment Size\n",
      " Avg Bwd Segment Size\n",
      " Fwd Header Length.1\n",
      "Fwd Avg Bytes/Bulk\n",
      " Fwd Avg Packets/Bulk\n",
      " Fwd Avg Bulk Rate\n",
      " Bwd Avg Bytes/Bulk\n",
      " Bwd Avg Packets/Bulk\n",
      "Bwd Avg Bulk Rate\n",
      "Subflow Fwd Packets\n",
      " Subflow Fwd Bytes\n",
      " Subflow Bwd Packets\n",
      " Subflow Bwd Bytes\n",
      "Init_Win_bytes_forward\n",
      " Init_Win_bytes_backward\n",
      " act_data_pkt_fwd\n",
      " min_seg_size_forward\n",
      "Active Mean\n",
      " Active Std\n",
      " Active Max\n",
      " Active Min\n",
      "Idle Mean\n",
      " Idle Std\n",
      " Idle Max\n",
      " Idle Min\n",
      " Label\n"
     ]
    }
   ],
   "source": [
    "for col in frame.columns:\n",
    "    print(col)"
   ]
  },
  {
   "cell_type": "markdown",
   "metadata": {},
   "source": [
    "Let's trim all leading and trailing whitespace from the column names."
   ]
  },
  {
   "cell_type": "code",
   "execution_count": 4,
   "metadata": {},
   "outputs": [],
   "source": [
    "for index, column in enumerate(frame.columns):\n",
    "    frame.columns.values[index] = frame.columns.values[index].strip()"
   ]
  },
  {
   "cell_type": "code",
   "execution_count": 5,
   "metadata": {
    "scrolled": true
   },
   "outputs": [
    {
     "name": "stdout",
     "output_type": "stream",
     "text": [
      "Destination Port\n",
      "Flow Duration\n",
      "Total Fwd Packets\n",
      "Total Backward Packets\n",
      "Total Length of Fwd Packets\n",
      "Total Length of Bwd Packets\n",
      "Fwd Packet Length Max\n",
      "Fwd Packet Length Min\n",
      "Fwd Packet Length Mean\n",
      "Fwd Packet Length Std\n",
      "Bwd Packet Length Max\n",
      "Bwd Packet Length Min\n",
      "Bwd Packet Length Mean\n",
      "Bwd Packet Length Std\n",
      "Flow Bytes/s\n",
      "Flow Packets/s\n",
      "Flow IAT Mean\n",
      "Flow IAT Std\n",
      "Flow IAT Max\n",
      "Flow IAT Min\n",
      "Fwd IAT Total\n",
      "Fwd IAT Mean\n",
      "Fwd IAT Std\n",
      "Fwd IAT Max\n",
      "Fwd IAT Min\n",
      "Bwd IAT Total\n",
      "Bwd IAT Mean\n",
      "Bwd IAT Std\n",
      "Bwd IAT Max\n",
      "Bwd IAT Min\n",
      "Fwd PSH Flags\n",
      "Bwd PSH Flags\n",
      "Fwd URG Flags\n",
      "Bwd URG Flags\n",
      "Fwd Header Length\n",
      "Bwd Header Length\n",
      "Fwd Packets/s\n",
      "Bwd Packets/s\n",
      "Min Packet Length\n",
      "Max Packet Length\n",
      "Packet Length Mean\n",
      "Packet Length Std\n",
      "Packet Length Variance\n",
      "FIN Flag Count\n",
      "SYN Flag Count\n",
      "RST Flag Count\n",
      "PSH Flag Count\n",
      "ACK Flag Count\n",
      "URG Flag Count\n",
      "CWE Flag Count\n",
      "ECE Flag Count\n",
      "Down/Up Ratio\n",
      "Average Packet Size\n",
      "Avg Fwd Segment Size\n",
      "Avg Bwd Segment Size\n",
      "Fwd Header Length.1\n",
      "Fwd Avg Bytes/Bulk\n",
      "Fwd Avg Packets/Bulk\n",
      "Fwd Avg Bulk Rate\n",
      "Bwd Avg Bytes/Bulk\n",
      "Bwd Avg Packets/Bulk\n",
      "Bwd Avg Bulk Rate\n",
      "Subflow Fwd Packets\n",
      "Subflow Fwd Bytes\n",
      "Subflow Bwd Packets\n",
      "Subflow Bwd Bytes\n",
      "Init_Win_bytes_forward\n",
      "Init_Win_bytes_backward\n",
      "act_data_pkt_fwd\n",
      "min_seg_size_forward\n",
      "Active Mean\n",
      "Active Std\n",
      "Active Max\n",
      "Active Min\n",
      "Idle Mean\n",
      "Idle Std\n",
      "Idle Max\n",
      "Idle Min\n",
      "Label\n"
     ]
    }
   ],
   "source": [
    "for col in frame.columns:\n",
    "    print(col)"
   ]
  },
  {
   "cell_type": "markdown",
   "metadata": {},
   "source": [
    "The next problem to consider is that destination port addresses should be treated as categorical labels rather than as numerical values. Inspecting the data type of the 'Destination Port' column reveals a type of int64."
   ]
  },
  {
   "cell_type": "code",
   "execution_count": 6,
   "metadata": {},
   "outputs": [
    {
     "data": {
      "text/plain": [
       "dtype('int64')"
      ]
     },
     "execution_count": 6,
     "metadata": {},
     "output_type": "execute_result"
    }
   ],
   "source": [
    "frame['Destination Port'].dtype"
   ]
  },
  {
   "cell_type": "markdown",
   "metadata": {},
   "source": [
    "Let's convert the data type of this column to a string. This will help us to ensure that our models consider this column's data categorically rather than numerically."
   ]
  },
  {
   "cell_type": "code",
   "execution_count": 7,
   "metadata": {},
   "outputs": [],
   "source": [
    "frame['Destination Port'] = frame['Destination Port'].apply(str)"
   ]
  },
  {
   "cell_type": "code",
   "execution_count": 8,
   "metadata": {
    "scrolled": true
   },
   "outputs": [
    {
     "data": {
      "text/plain": [
       "dtype('O')"
      ]
     },
     "execution_count": 8,
     "metadata": {},
     "output_type": "execute_result"
    }
   ],
   "source": [
    "frame['Destination Port'].dtype"
   ]
  },
  {
   "cell_type": "markdown",
   "metadata": {},
   "source": [
    "We discovered during the data exploration step that a number of records are missing values for the column 'Flow Bytes/s'. It isn't clear whether these values are mislabelled zeros or just a metric that failed to be captured for those particular observations. The safest option, given the low count of records affected, would be to simply drop these records. "
   ]
  },
  {
   "cell_type": "code",
   "execution_count": 9,
   "metadata": {},
   "outputs": [],
   "source": [
    "frame = frame.dropna()"
   ]
  },
  {
   "cell_type": "code",
   "execution_count": 10,
   "metadata": {},
   "outputs": [
    {
     "name": "stdout",
     "output_type": "stream",
     "text": [
      "Row Count : 2829385\n"
     ]
    }
   ],
   "source": [
    "print(\"Row Count : \" + str(len(frame.index)))"
   ]
  },
  {
   "cell_type": "code",
   "execution_count": 11,
   "metadata": {},
   "outputs": [],
   "source": [
    "for index, sum in enumerate(frame.isnull().sum()):\n",
    "    if sum > 0:\n",
    "        print(frame.columns[index] + \" : \" + str(sum) + \" null values\")"
   ]
  },
  {
   "cell_type": "markdown",
   "metadata": {},
   "source": [
    "Our dataset has now been very slightly reduced, but contains no null values."
   ]
  },
  {
   "cell_type": "markdown",
   "metadata": {},
   "source": [
    "In addition to removing any records with null values, I would also like to remove two particular columns from our dataset that have the potential to be problematic when building our models. The incredibly large values in the columns 'Flow Bytes/s' and 'Flow Packets/s' cause overflow errors when building many of our models, and so I will be removing these two columns from the dataset."
   ]
  },
  {
   "cell_type": "code",
   "execution_count": 12,
   "metadata": {},
   "outputs": [],
   "source": [
    "frame = frame.drop(['Flow Bytes/s', 'Flow Packets/s'], axis=1)"
   ]
  },
  {
   "cell_type": "markdown",
   "metadata": {},
   "source": [
    "Our next preprocessing step will be to handle the separation of our labels from the rest of our dataset."
   ]
  },
  {
   "cell_type": "code",
   "execution_count": 13,
   "metadata": {},
   "outputs": [],
   "source": [
    "labels = pandas.DataFrame(frame['Label'].copy(), columns = ['Label'])"
   ]
  },
  {
   "cell_type": "code",
   "execution_count": 14,
   "metadata": {},
   "outputs": [
    {
     "data": {
      "text/html": [
       "<div>\n",
       "<style scoped>\n",
       "    .dataframe tbody tr th:only-of-type {\n",
       "        vertical-align: middle;\n",
       "    }\n",
       "\n",
       "    .dataframe tbody tr th {\n",
       "        vertical-align: top;\n",
       "    }\n",
       "\n",
       "    .dataframe thead th {\n",
       "        text-align: right;\n",
       "    }\n",
       "</style>\n",
       "<table border=\"1\" class=\"dataframe\">\n",
       "  <thead>\n",
       "    <tr style=\"text-align: right;\">\n",
       "      <th></th>\n",
       "      <th>Label</th>\n",
       "    </tr>\n",
       "  </thead>\n",
       "  <tbody>\n",
       "    <tr>\n",
       "      <th>0</th>\n",
       "      <td>BENIGN</td>\n",
       "    </tr>\n",
       "    <tr>\n",
       "      <th>1</th>\n",
       "      <td>BENIGN</td>\n",
       "    </tr>\n",
       "    <tr>\n",
       "      <th>2</th>\n",
       "      <td>BENIGN</td>\n",
       "    </tr>\n",
       "    <tr>\n",
       "      <th>3</th>\n",
       "      <td>BENIGN</td>\n",
       "    </tr>\n",
       "    <tr>\n",
       "      <th>4</th>\n",
       "      <td>BENIGN</td>\n",
       "    </tr>\n",
       "  </tbody>\n",
       "</table>\n",
       "</div>"
      ],
      "text/plain": [
       "    Label\n",
       "0  BENIGN\n",
       "1  BENIGN\n",
       "2  BENIGN\n",
       "3  BENIGN\n",
       "4  BENIGN"
      ]
     },
     "execution_count": 14,
     "metadata": {},
     "output_type": "execute_result"
    }
   ],
   "source": [
    "labels.head()"
   ]
  },
  {
   "cell_type": "code",
   "execution_count": 15,
   "metadata": {},
   "outputs": [],
   "source": [
    "frame = frame.drop('Label', axis=1)"
   ]
  },
  {
   "cell_type": "code",
   "execution_count": 16,
   "metadata": {
    "scrolled": true
   },
   "outputs": [
    {
     "data": {
      "text/html": [
       "<div>\n",
       "<style scoped>\n",
       "    .dataframe tbody tr th:only-of-type {\n",
       "        vertical-align: middle;\n",
       "    }\n",
       "\n",
       "    .dataframe tbody tr th {\n",
       "        vertical-align: top;\n",
       "    }\n",
       "\n",
       "    .dataframe thead th {\n",
       "        text-align: right;\n",
       "    }\n",
       "</style>\n",
       "<table border=\"1\" class=\"dataframe\">\n",
       "  <thead>\n",
       "    <tr style=\"text-align: right;\">\n",
       "      <th></th>\n",
       "      <th>Destination Port</th>\n",
       "      <th>Flow Duration</th>\n",
       "      <th>Total Fwd Packets</th>\n",
       "      <th>Total Backward Packets</th>\n",
       "      <th>Total Length of Fwd Packets</th>\n",
       "      <th>Total Length of Bwd Packets</th>\n",
       "      <th>Fwd Packet Length Max</th>\n",
       "      <th>Fwd Packet Length Min</th>\n",
       "      <th>Fwd Packet Length Mean</th>\n",
       "      <th>Fwd Packet Length Std</th>\n",
       "      <th>...</th>\n",
       "      <th>act_data_pkt_fwd</th>\n",
       "      <th>min_seg_size_forward</th>\n",
       "      <th>Active Mean</th>\n",
       "      <th>Active Std</th>\n",
       "      <th>Active Max</th>\n",
       "      <th>Active Min</th>\n",
       "      <th>Idle Mean</th>\n",
       "      <th>Idle Std</th>\n",
       "      <th>Idle Max</th>\n",
       "      <th>Idle Min</th>\n",
       "    </tr>\n",
       "  </thead>\n",
       "  <tbody>\n",
       "    <tr>\n",
       "      <th>0</th>\n",
       "      <td>54865</td>\n",
       "      <td>3</td>\n",
       "      <td>2</td>\n",
       "      <td>0</td>\n",
       "      <td>12</td>\n",
       "      <td>0</td>\n",
       "      <td>6</td>\n",
       "      <td>6</td>\n",
       "      <td>6.0</td>\n",
       "      <td>0.0</td>\n",
       "      <td>...</td>\n",
       "      <td>1</td>\n",
       "      <td>20</td>\n",
       "      <td>0.0</td>\n",
       "      <td>0.0</td>\n",
       "      <td>0</td>\n",
       "      <td>0</td>\n",
       "      <td>0.0</td>\n",
       "      <td>0.0</td>\n",
       "      <td>0</td>\n",
       "      <td>0</td>\n",
       "    </tr>\n",
       "    <tr>\n",
       "      <th>1</th>\n",
       "      <td>55054</td>\n",
       "      <td>109</td>\n",
       "      <td>1</td>\n",
       "      <td>1</td>\n",
       "      <td>6</td>\n",
       "      <td>6</td>\n",
       "      <td>6</td>\n",
       "      <td>6</td>\n",
       "      <td>6.0</td>\n",
       "      <td>0.0</td>\n",
       "      <td>...</td>\n",
       "      <td>0</td>\n",
       "      <td>20</td>\n",
       "      <td>0.0</td>\n",
       "      <td>0.0</td>\n",
       "      <td>0</td>\n",
       "      <td>0</td>\n",
       "      <td>0.0</td>\n",
       "      <td>0.0</td>\n",
       "      <td>0</td>\n",
       "      <td>0</td>\n",
       "    </tr>\n",
       "    <tr>\n",
       "      <th>2</th>\n",
       "      <td>55055</td>\n",
       "      <td>52</td>\n",
       "      <td>1</td>\n",
       "      <td>1</td>\n",
       "      <td>6</td>\n",
       "      <td>6</td>\n",
       "      <td>6</td>\n",
       "      <td>6</td>\n",
       "      <td>6.0</td>\n",
       "      <td>0.0</td>\n",
       "      <td>...</td>\n",
       "      <td>0</td>\n",
       "      <td>20</td>\n",
       "      <td>0.0</td>\n",
       "      <td>0.0</td>\n",
       "      <td>0</td>\n",
       "      <td>0</td>\n",
       "      <td>0.0</td>\n",
       "      <td>0.0</td>\n",
       "      <td>0</td>\n",
       "      <td>0</td>\n",
       "    </tr>\n",
       "    <tr>\n",
       "      <th>3</th>\n",
       "      <td>46236</td>\n",
       "      <td>34</td>\n",
       "      <td>1</td>\n",
       "      <td>1</td>\n",
       "      <td>6</td>\n",
       "      <td>6</td>\n",
       "      <td>6</td>\n",
       "      <td>6</td>\n",
       "      <td>6.0</td>\n",
       "      <td>0.0</td>\n",
       "      <td>...</td>\n",
       "      <td>0</td>\n",
       "      <td>20</td>\n",
       "      <td>0.0</td>\n",
       "      <td>0.0</td>\n",
       "      <td>0</td>\n",
       "      <td>0</td>\n",
       "      <td>0.0</td>\n",
       "      <td>0.0</td>\n",
       "      <td>0</td>\n",
       "      <td>0</td>\n",
       "    </tr>\n",
       "    <tr>\n",
       "      <th>4</th>\n",
       "      <td>54863</td>\n",
       "      <td>3</td>\n",
       "      <td>2</td>\n",
       "      <td>0</td>\n",
       "      <td>12</td>\n",
       "      <td>0</td>\n",
       "      <td>6</td>\n",
       "      <td>6</td>\n",
       "      <td>6.0</td>\n",
       "      <td>0.0</td>\n",
       "      <td>...</td>\n",
       "      <td>1</td>\n",
       "      <td>20</td>\n",
       "      <td>0.0</td>\n",
       "      <td>0.0</td>\n",
       "      <td>0</td>\n",
       "      <td>0</td>\n",
       "      <td>0.0</td>\n",
       "      <td>0.0</td>\n",
       "      <td>0</td>\n",
       "      <td>0</td>\n",
       "    </tr>\n",
       "  </tbody>\n",
       "</table>\n",
       "<p>5 rows × 76 columns</p>\n",
       "</div>"
      ],
      "text/plain": [
       "  Destination Port  Flow Duration  Total Fwd Packets  Total Backward Packets  \\\n",
       "0            54865              3                  2                       0   \n",
       "1            55054            109                  1                       1   \n",
       "2            55055             52                  1                       1   \n",
       "3            46236             34                  1                       1   \n",
       "4            54863              3                  2                       0   \n",
       "\n",
       "   Total Length of Fwd Packets  Total Length of Bwd Packets  \\\n",
       "0                           12                            0   \n",
       "1                            6                            6   \n",
       "2                            6                            6   \n",
       "3                            6                            6   \n",
       "4                           12                            0   \n",
       "\n",
       "   Fwd Packet Length Max  Fwd Packet Length Min  Fwd Packet Length Mean  \\\n",
       "0                      6                      6                     6.0   \n",
       "1                      6                      6                     6.0   \n",
       "2                      6                      6                     6.0   \n",
       "3                      6                      6                     6.0   \n",
       "4                      6                      6                     6.0   \n",
       "\n",
       "   Fwd Packet Length Std  ...  act_data_pkt_fwd  min_seg_size_forward  \\\n",
       "0                    0.0  ...                 1                    20   \n",
       "1                    0.0  ...                 0                    20   \n",
       "2                    0.0  ...                 0                    20   \n",
       "3                    0.0  ...                 0                    20   \n",
       "4                    0.0  ...                 1                    20   \n",
       "\n",
       "   Active Mean  Active Std  Active Max  Active Min  Idle Mean  Idle Std  \\\n",
       "0          0.0         0.0           0           0        0.0       0.0   \n",
       "1          0.0         0.0           0           0        0.0       0.0   \n",
       "2          0.0         0.0           0           0        0.0       0.0   \n",
       "3          0.0         0.0           0           0        0.0       0.0   \n",
       "4          0.0         0.0           0           0        0.0       0.0   \n",
       "\n",
       "   Idle Max  Idle Min  \n",
       "0         0         0  \n",
       "1         0         0  \n",
       "2         0         0  \n",
       "3         0         0  \n",
       "4         0         0  \n",
       "\n",
       "[5 rows x 76 columns]"
      ]
     },
     "execution_count": 16,
     "metadata": {},
     "output_type": "execute_result"
    }
   ],
   "source": [
    "frame.head()"
   ]
  },
  {
   "cell_type": "markdown",
   "metadata": {},
   "source": [
    "In addition to separating the target labels from the rest of the dataset, I'd like to reduce the number of unique target labels from 15 to 2, representing either an attack packet or a benign packet. Our goal in this work is to apply anomaly detection techniques to an intrusion detection dataset, and as such we are only interested in whether a particular packet is benign or malicious.\n",
    "\n",
    "Let's create a copy of the labels dataframe with this added simplification. We'll use the label 0 to represent a benign packet and 1 to represent a malicious packet."
   ]
  },
  {
   "cell_type": "code",
   "execution_count": 17,
   "metadata": {
    "scrolled": true
   },
   "outputs": [
    {
     "data": {
      "text/html": [
       "<div>\n",
       "<style scoped>\n",
       "    .dataframe tbody tr th:only-of-type {\n",
       "        vertical-align: middle;\n",
       "    }\n",
       "\n",
       "    .dataframe tbody tr th {\n",
       "        vertical-align: top;\n",
       "    }\n",
       "\n",
       "    .dataframe thead th {\n",
       "        text-align: right;\n",
       "    }\n",
       "</style>\n",
       "<table border=\"1\" class=\"dataframe\">\n",
       "  <thead>\n",
       "    <tr style=\"text-align: right;\">\n",
       "      <th></th>\n",
       "      <th>Label</th>\n",
       "    </tr>\n",
       "  </thead>\n",
       "  <tbody>\n",
       "    <tr>\n",
       "      <th>0</th>\n",
       "      <td>0</td>\n",
       "    </tr>\n",
       "    <tr>\n",
       "      <th>1</th>\n",
       "      <td>0</td>\n",
       "    </tr>\n",
       "    <tr>\n",
       "      <th>2</th>\n",
       "      <td>0</td>\n",
       "    </tr>\n",
       "    <tr>\n",
       "      <th>3</th>\n",
       "      <td>0</td>\n",
       "    </tr>\n",
       "    <tr>\n",
       "      <th>4</th>\n",
       "      <td>0</td>\n",
       "    </tr>\n",
       "  </tbody>\n",
       "</table>\n",
       "</div>"
      ],
      "text/plain": [
       "   Label\n",
       "0      0\n",
       "1      0\n",
       "2      0\n",
       "3      0\n",
       "4      0"
      ]
     },
     "execution_count": 17,
     "metadata": {},
     "output_type": "execute_result"
    }
   ],
   "source": [
    "modified_labels_list = []\n",
    "\n",
    "for label in labels.values:\n",
    "    if label == 'BENIGN':\n",
    "        modified_labels_list.append(0)\n",
    "    else:\n",
    "        modified_labels_list.append(1)\n",
    "        \n",
    "modified_labels = pandas.DataFrame(modified_labels_list, columns = ['Label'])\n",
    "modified_labels.head()"
   ]
  },
  {
   "cell_type": "markdown",
   "metadata": {},
   "source": [
    "With this change we can now frame the problem as an imbalanced binary classification task. Let's write our preprocessed dataset to disk, along with both the original labels and the simplified labels."
   ]
  },
  {
   "cell_type": "code",
   "execution_count": 18,
   "metadata": {},
   "outputs": [],
   "source": [
    "frame.to_pickle(\"../data/refined-cicids2017.pkl\")\n",
    "labels.to_pickle(\"../data/original-labels.pkl\")\n",
    "modified_labels.to_pickle(\"../data/simplified-labels.pkl\")"
   ]
  },
  {
   "cell_type": "markdown",
   "metadata": {},
   "source": [
    "## Experiments"
   ]
  },
  {
   "cell_type": "markdown",
   "metadata": {},
   "source": [
    "In this section we perform a series of experiments applying anomaly detection techniques to an intrusion detection task. Our goal in each experiment is to build a model capable of identifying which packets are benign and which are malicious. In every case we perform the following tasks:\n",
    "\n",
    "- load the preprocessed dataset\n",
    "- split the dataset into training and test sets \n",
    "- build a model using the training set\n",
    "- make predictions against the test set\n",
    "- write the predictions to disk\n",
    "\n",
    "We also attempt to identify the assumptions that a given algorithm will make "
   ]
  },
  {
   "cell_type": "markdown",
   "metadata": {},
   "source": [
    "### Experiment 1: Mahalanobis Distance"
   ]
  },
  {
   "cell_type": "markdown",
   "metadata": {},
   "source": [
    "In our first experiment we employ a technique that uses a point's proximity to the distribution of points in the dataset as a mechanism for detecting anomalies. The Mahalanobis distance of a point represents its distance from the given distribution. Using a vector of sample means and a vector of sample standard deviations computed from the training set we generate a centerpoint for the distribution. We then use the covariance matrix of the dataset's features to control the shape of the distribution around the centerpoint when computing Mahalanobis distances for each point in the test set. We finally establish a threshold distance away from the distribution beyond which any point is labeled an anomaly. This technique makes the assumption that an anomalous point is further away from the distribution than normal points. This assumption is not necessarily true for every dataset."
   ]
  },
  {
   "cell_type": "markdown",
   "metadata": {},
   "source": [
    "We'll begin by loading our samples and targets, dropping the categorical 'Destination Port' column."
   ]
  },
  {
   "cell_type": "code",
   "execution_count": 2,
   "metadata": {},
   "outputs": [],
   "source": [
    "X = pandas.read_pickle('../data/refined-cicids2017.pkl').drop(['Destination Port'], axis=1)\n",
    "Y = pandas.read_pickle('../data/simplified-labels.pkl')"
   ]
  },
  {
   "cell_type": "markdown",
   "metadata": {},
   "source": [
    "Next, we'll split our dataset into a training set and a test set. We'll use an 80/20 split across all techniques for consistency."
   ]
  },
  {
   "cell_type": "code",
   "execution_count": 3,
   "metadata": {},
   "outputs": [],
   "source": [
    "X_train, X_test, Y_train, Y_test = train_test_split(X, Y, train_size=0.8, test_size=0.2, shuffle=True)"
   ]
  },
  {
   "cell_type": "markdown",
   "metadata": {},
   "source": [
    "Then we'll use the training set to compute the metrics required for computing Mahalanobis distances. The inverse covariance matrix, along with the centerpoint, are the model. This process can be considered the training phase."
   ]
  },
  {
   "cell_type": "code",
   "execution_count": 4,
   "metadata": {
    "scrolled": true
   },
   "outputs": [
    {
     "data": {
      "text/plain": [
       "Flow Duration                  1.479056e+07\n",
       "Total Fwd Packets              9.107907e+00\n",
       "Total Backward Packets         1.008252e+01\n",
       "Total Length of Fwd Packets    5.438611e+02\n",
       "Total Length of Bwd Packets    1.543989e+04\n",
       "                                   ...     \n",
       "Active Min                     5.836067e+04\n",
       "Idle Mean                      8.321528e+06\n",
       "Idle Std                       5.037919e+05\n",
       "Idle Max                       8.701391e+06\n",
       "Idle Min                       7.925644e+06\n",
       "Length: 75, dtype: float64"
      ]
     },
     "execution_count": 4,
     "metadata": {},
     "output_type": "execute_result"
    }
   ],
   "source": [
    "covariance = numpy.cov(X_train, rowvar=0)\n",
    "inverse_covariance = numpy.linalg.pinv(covariance)\n",
    "centerpoint = numpy.mean(X_train, axis=0)\n",
    "centerpoint"
   ]
  },
  {
   "cell_type": "markdown",
   "metadata": {},
   "source": [
    "Next we compute the Mahalanobis distance between each point in the test set and the training set's distribution. This is the testing phase."
   ]
  },
  {
   "cell_type": "code",
   "execution_count": 5,
   "metadata": {
    "scrolled": true
   },
   "outputs": [
    {
     "data": {
      "text/plain": [
       "array([  1.45598549,   1.85499388, 200.2616654 , ...,  25.01587067,\n",
       "        30.78108247,  59.08604211])"
      ]
     },
     "execution_count": 5,
     "metadata": {},
     "output_type": "execute_result"
    }
   ],
   "source": [
    "distances = []\n",
    "\n",
    "for index, record in X_test.iterrows():\n",
    "    p1 = record\n",
    "    p2 = centerpoint\n",
    "    distance = (p1 - p2).T.dot(inverse_covariance).dot(p1 - p2)\n",
    "    distances.append(distance)\n",
    "\n",
    "distances = numpy.array(distances)\n",
    "distances"
   ]
  },
  {
   "cell_type": "markdown",
   "metadata": {},
   "source": [
    "Before making predictions we need to define a cutoff threshold beyond which an event is considered anomalous. Here we define the cutoff using a Chi-square distribution. This distribution is produced by the Mahalanobis distances. We then generate a list of the packet capture event indices that have been identified as anomalous."
   ]
  },
  {
   "cell_type": "code",
   "execution_count": 6,
   "metadata": {},
   "outputs": [
    {
     "data": {
      "text/plain": [
       "array([     2,     51,     62, ..., 565848, 565855, 565860], dtype=int64)"
      ]
     },
     "execution_count": 6,
     "metadata": {},
     "output_type": "execute_result"
    }
   ],
   "source": [
    "cutoff = scipy.stats.chi2.ppf(0.80, X_test.shape[1])\n",
    "prediction_indices = numpy.where(distances > cutoff)[0]\n",
    "prediction_indices"
   ]
  },
  {
   "cell_type": "markdown",
   "metadata": {},
   "source": [
    "This prediction format won't interface with our evaluation functions. Out next stip is to convert this list of anomalous event indices into a list of predicted labels across all of the test set."
   ]
  },
  {
   "cell_type": "code",
   "execution_count": 7,
   "metadata": {},
   "outputs": [
    {
     "data": {
      "text/plain": [
       "[0,\n",
       " 0,\n",
       " 1,\n",
       " 0,\n",
       " 0,\n",
       " 0,\n",
       " 0,\n",
       " 0,\n",
       " 0,\n",
       " 0,\n",
       " 0,\n",
       " 0,\n",
       " 0,\n",
       " 0,\n",
       " 0,\n",
       " 0,\n",
       " 0,\n",
       " 0,\n",
       " 0,\n",
       " 0,\n",
       " 0,\n",
       " 0,\n",
       " 0,\n",
       " 0,\n",
       " 0,\n",
       " 0,\n",
       " 0,\n",
       " 0,\n",
       " 0,\n",
       " 0,\n",
       " 0,\n",
       " 0,\n",
       " 0,\n",
       " 0,\n",
       " 0,\n",
       " 0,\n",
       " 0,\n",
       " 0,\n",
       " 0,\n",
       " 0,\n",
       " 0,\n",
       " 0,\n",
       " 0,\n",
       " 0,\n",
       " 0,\n",
       " 0,\n",
       " 0,\n",
       " 0,\n",
       " 0,\n",
       " 0,\n",
       " 0,\n",
       " 1,\n",
       " 0,\n",
       " 0,\n",
       " 0,\n",
       " 0,\n",
       " 0,\n",
       " 0,\n",
       " 0,\n",
       " 0,\n",
       " 0,\n",
       " 0,\n",
       " 1,\n",
       " 0,\n",
       " 0,\n",
       " 0,\n",
       " 0,\n",
       " 0,\n",
       " 0,\n",
       " 0,\n",
       " 0,\n",
       " 1,\n",
       " 0,\n",
       " 0,\n",
       " 0,\n",
       " 0,\n",
       " 0,\n",
       " 1,\n",
       " 0,\n",
       " 0,\n",
       " 0,\n",
       " 0,\n",
       " 0,\n",
       " 0,\n",
       " 0,\n",
       " 0,\n",
       " 0,\n",
       " 0,\n",
       " 0,\n",
       " 0,\n",
       " 0,\n",
       " 0,\n",
       " 0,\n",
       " 1,\n",
       " 0,\n",
       " 0,\n",
       " 0,\n",
       " 0,\n",
       " 0,\n",
       " 1,\n",
       " 0,\n",
       " 0,\n",
       " 0,\n",
       " 0,\n",
       " 0,\n",
       " 0,\n",
       " 0,\n",
       " 0,\n",
       " 0,\n",
       " 0,\n",
       " 0,\n",
       " 0,\n",
       " 0,\n",
       " 0,\n",
       " 0,\n",
       " 0,\n",
       " 0,\n",
       " 1,\n",
       " 0,\n",
       " 0,\n",
       " 0,\n",
       " 0,\n",
       " 1,\n",
       " 0,\n",
       " 0,\n",
       " 1,\n",
       " 0,\n",
       " 0,\n",
       " 0,\n",
       " 0,\n",
       " 0,\n",
       " 0,\n",
       " 0,\n",
       " 0,\n",
       " 0,\n",
       " 0,\n",
       " 0,\n",
       " 1,\n",
       " 0,\n",
       " 0,\n",
       " 0,\n",
       " 0,\n",
       " 0,\n",
       " 0,\n",
       " 0,\n",
       " 0,\n",
       " 1,\n",
       " 0,\n",
       " 0,\n",
       " 0,\n",
       " 0,\n",
       " 0,\n",
       " 0,\n",
       " 0,\n",
       " 1,\n",
       " 0,\n",
       " 0,\n",
       " 0,\n",
       " 0,\n",
       " 0,\n",
       " 0,\n",
       " 0,\n",
       " 0,\n",
       " 0,\n",
       " 0,\n",
       " 0,\n",
       " 0,\n",
       " 0,\n",
       " 0,\n",
       " 0,\n",
       " 0,\n",
       " 0,\n",
       " 0,\n",
       " 0,\n",
       " 0,\n",
       " 0,\n",
       " 1,\n",
       " 0,\n",
       " 0,\n",
       " 0,\n",
       " 0,\n",
       " 0,\n",
       " 0,\n",
       " 0,\n",
       " 0,\n",
       " 1,\n",
       " 1,\n",
       " 0,\n",
       " 0,\n",
       " 0,\n",
       " 0,\n",
       " 0,\n",
       " 0,\n",
       " 0,\n",
       " 0,\n",
       " 0,\n",
       " 0,\n",
       " 0,\n",
       " 0,\n",
       " 0,\n",
       " 0,\n",
       " 0,\n",
       " 0,\n",
       " 1,\n",
       " 0,\n",
       " 0,\n",
       " 0,\n",
       " 0,\n",
       " 0,\n",
       " 0,\n",
       " 0,\n",
       " 0,\n",
       " 1,\n",
       " 0,\n",
       " 0,\n",
       " 0,\n",
       " 0,\n",
       " 0,\n",
       " 0,\n",
       " 0,\n",
       " 0,\n",
       " 0,\n",
       " 0,\n",
       " 0,\n",
       " 0,\n",
       " 0,\n",
       " 0,\n",
       " 0,\n",
       " 0,\n",
       " 0,\n",
       " 1,\n",
       " 0,\n",
       " 0,\n",
       " 0,\n",
       " 0,\n",
       " 0,\n",
       " 0,\n",
       " 0,\n",
       " 0,\n",
       " 0,\n",
       " 0,\n",
       " 1,\n",
       " 0,\n",
       " 0,\n",
       " 0,\n",
       " 0,\n",
       " 0,\n",
       " 0,\n",
       " 0,\n",
       " 0,\n",
       " 1,\n",
       " 0,\n",
       " 0,\n",
       " 0,\n",
       " 0,\n",
       " 0,\n",
       " 0,\n",
       " 0,\n",
       " 0,\n",
       " 0,\n",
       " 0,\n",
       " 0,\n",
       " 0,\n",
       " 0,\n",
       " 0,\n",
       " 1,\n",
       " 0,\n",
       " 0,\n",
       " 0,\n",
       " 0,\n",
       " 0,\n",
       " 0,\n",
       " 0,\n",
       " 0,\n",
       " 0,\n",
       " 0,\n",
       " 0,\n",
       " 0,\n",
       " 0,\n",
       " 0,\n",
       " 0,\n",
       " 0,\n",
       " 0,\n",
       " 0,\n",
       " 0,\n",
       " 0,\n",
       " 0,\n",
       " 0,\n",
       " 0,\n",
       " 1,\n",
       " 0,\n",
       " 1,\n",
       " 0,\n",
       " 0,\n",
       " 0,\n",
       " 0,\n",
       " 0,\n",
       " 0,\n",
       " 0,\n",
       " 0,\n",
       " 0,\n",
       " 0,\n",
       " 0,\n",
       " 0,\n",
       " 0,\n",
       " 0,\n",
       " 0,\n",
       " 0,\n",
       " 0,\n",
       " 0,\n",
       " 0,\n",
       " 0,\n",
       " 0,\n",
       " 0,\n",
       " 0,\n",
       " 0,\n",
       " 0,\n",
       " 0,\n",
       " 0,\n",
       " 0,\n",
       " 1,\n",
       " 0,\n",
       " 0,\n",
       " 0,\n",
       " 0,\n",
       " 0,\n",
       " 0,\n",
       " 0,\n",
       " 0,\n",
       " 0,\n",
       " 0,\n",
       " 0,\n",
       " 0,\n",
       " 0,\n",
       " 0,\n",
       " 0,\n",
       " 0,\n",
       " 0,\n",
       " 0,\n",
       " 0,\n",
       " 0,\n",
       " 0,\n",
       " 1,\n",
       " 0,\n",
       " 0,\n",
       " 0,\n",
       " 1,\n",
       " 0,\n",
       " 0,\n",
       " 0,\n",
       " 0,\n",
       " 0,\n",
       " 0,\n",
       " 0,\n",
       " 0,\n",
       " 0,\n",
       " 0,\n",
       " 0,\n",
       " 0,\n",
       " 0,\n",
       " 0,\n",
       " 0,\n",
       " 0,\n",
       " 0,\n",
       " 0,\n",
       " 0,\n",
       " 0,\n",
       " 0,\n",
       " 0,\n",
       " 0,\n",
       " 0,\n",
       " 0,\n",
       " 0,\n",
       " 0,\n",
       " 0,\n",
       " 0,\n",
       " 0,\n",
       " 0,\n",
       " 0,\n",
       " 0,\n",
       " 0,\n",
       " 0,\n",
       " 0,\n",
       " 0,\n",
       " 0,\n",
       " 0,\n",
       " 0,\n",
       " 0,\n",
       " 0,\n",
       " 0,\n",
       " 0,\n",
       " 0,\n",
       " 0,\n",
       " 0,\n",
       " 0,\n",
       " 0,\n",
       " 1,\n",
       " 0,\n",
       " 0,\n",
       " 1,\n",
       " 0,\n",
       " 0,\n",
       " 0,\n",
       " 0,\n",
       " 0,\n",
       " 0,\n",
       " 1,\n",
       " 0,\n",
       " 0,\n",
       " 0,\n",
       " 0,\n",
       " 0,\n",
       " 0,\n",
       " 0,\n",
       " 0,\n",
       " 0,\n",
       " 0,\n",
       " 0,\n",
       " 0,\n",
       " 0,\n",
       " 0,\n",
       " 0,\n",
       " 0,\n",
       " 0,\n",
       " 0,\n",
       " 0,\n",
       " 0,\n",
       " 0,\n",
       " 0,\n",
       " 0,\n",
       " 0,\n",
       " 0,\n",
       " 0,\n",
       " 0,\n",
       " 0,\n",
       " 0,\n",
       " 0,\n",
       " 0,\n",
       " 1,\n",
       " 0,\n",
       " 0,\n",
       " 0,\n",
       " 0,\n",
       " 0,\n",
       " 0,\n",
       " 0,\n",
       " 0,\n",
       " 0,\n",
       " 0,\n",
       " 0,\n",
       " 0,\n",
       " 0,\n",
       " 0,\n",
       " 1,\n",
       " 0,\n",
       " 0,\n",
       " 0,\n",
       " 0,\n",
       " 1,\n",
       " 0,\n",
       " 0,\n",
       " 1,\n",
       " 1,\n",
       " 0,\n",
       " 0,\n",
       " 0,\n",
       " 0,\n",
       " 0,\n",
       " 0,\n",
       " 0,\n",
       " 0,\n",
       " 0,\n",
       " 1,\n",
       " 0,\n",
       " 0,\n",
       " 0,\n",
       " 1,\n",
       " 0,\n",
       " 0,\n",
       " 1,\n",
       " 0,\n",
       " 0,\n",
       " 0,\n",
       " 0,\n",
       " 0,\n",
       " 0,\n",
       " 0,\n",
       " 0,\n",
       " 0,\n",
       " 0,\n",
       " 0,\n",
       " 0,\n",
       " 0,\n",
       " 0,\n",
       " 1,\n",
       " 0,\n",
       " 0,\n",
       " 0,\n",
       " 1,\n",
       " 0,\n",
       " 0,\n",
       " 0,\n",
       " 0,\n",
       " 0,\n",
       " 0,\n",
       " 1,\n",
       " 0,\n",
       " 0,\n",
       " 0,\n",
       " 0,\n",
       " 0,\n",
       " 0,\n",
       " 0,\n",
       " 0,\n",
       " 0,\n",
       " 0,\n",
       " 1,\n",
       " 0,\n",
       " 0,\n",
       " 1,\n",
       " 0,\n",
       " 1,\n",
       " 0,\n",
       " 0,\n",
       " 0,\n",
       " 0,\n",
       " 0,\n",
       " 0,\n",
       " 0,\n",
       " 0,\n",
       " 0,\n",
       " 1,\n",
       " 0,\n",
       " 0,\n",
       " 0,\n",
       " 0,\n",
       " 0,\n",
       " 0,\n",
       " 0,\n",
       " 0,\n",
       " 0,\n",
       " 0,\n",
       " 0,\n",
       " 0,\n",
       " 1,\n",
       " 0,\n",
       " 0,\n",
       " 1,\n",
       " 0,\n",
       " 0,\n",
       " 0,\n",
       " 0,\n",
       " 0,\n",
       " 0,\n",
       " 0,\n",
       " 0,\n",
       " 0,\n",
       " 0,\n",
       " 0,\n",
       " 0,\n",
       " 0,\n",
       " 0,\n",
       " 1,\n",
       " 0,\n",
       " 0,\n",
       " 0,\n",
       " 0,\n",
       " 0,\n",
       " 0,\n",
       " 0,\n",
       " 0,\n",
       " 0,\n",
       " 0,\n",
       " 0,\n",
       " 0,\n",
       " 1,\n",
       " 0,\n",
       " 0,\n",
       " 0,\n",
       " 0,\n",
       " 0,\n",
       " 0,\n",
       " 1,\n",
       " 0,\n",
       " 0,\n",
       " 0,\n",
       " 0,\n",
       " 0,\n",
       " 0,\n",
       " 0,\n",
       " 0,\n",
       " 0,\n",
       " 0,\n",
       " 0,\n",
       " 0,\n",
       " 0,\n",
       " 0,\n",
       " 1,\n",
       " 0,\n",
       " 0,\n",
       " 0,\n",
       " 0,\n",
       " 0,\n",
       " 0,\n",
       " 0,\n",
       " 0,\n",
       " 0,\n",
       " 0,\n",
       " 0,\n",
       " 1,\n",
       " 0,\n",
       " 0,\n",
       " 0,\n",
       " 0,\n",
       " 0,\n",
       " 0,\n",
       " 0,\n",
       " 0,\n",
       " 0,\n",
       " 0,\n",
       " 0,\n",
       " 0,\n",
       " 0,\n",
       " 0,\n",
       " 0,\n",
       " 0,\n",
       " 0,\n",
       " 0,\n",
       " 0,\n",
       " 0,\n",
       " 0,\n",
       " 0,\n",
       " 0,\n",
       " 0,\n",
       " 0,\n",
       " 0,\n",
       " 0,\n",
       " 1,\n",
       " 0,\n",
       " 0,\n",
       " 0,\n",
       " 0,\n",
       " 0,\n",
       " 0,\n",
       " 0,\n",
       " 0,\n",
       " 0,\n",
       " 0,\n",
       " 0,\n",
       " 0,\n",
       " 0,\n",
       " 0,\n",
       " 1,\n",
       " 1,\n",
       " 0,\n",
       " 0,\n",
       " 0,\n",
       " 0,\n",
       " 0,\n",
       " 0,\n",
       " 0,\n",
       " 0,\n",
       " 0,\n",
       " 0,\n",
       " 0,\n",
       " 0,\n",
       " 0,\n",
       " 0,\n",
       " 0,\n",
       " 0,\n",
       " 0,\n",
       " 0,\n",
       " 0,\n",
       " 0,\n",
       " 0,\n",
       " 0,\n",
       " 0,\n",
       " 1,\n",
       " 0,\n",
       " 1,\n",
       " 0,\n",
       " 0,\n",
       " 1,\n",
       " 0,\n",
       " 0,\n",
       " 0,\n",
       " 1,\n",
       " 0,\n",
       " 1,\n",
       " 0,\n",
       " 0,\n",
       " 0,\n",
       " 0,\n",
       " 0,\n",
       " 0,\n",
       " 0,\n",
       " 0,\n",
       " 1,\n",
       " 0,\n",
       " 0,\n",
       " 0,\n",
       " 0,\n",
       " 0,\n",
       " 0,\n",
       " 0,\n",
       " 0,\n",
       " 0,\n",
       " 0,\n",
       " 0,\n",
       " 0,\n",
       " 0,\n",
       " 0,\n",
       " 0,\n",
       " 0,\n",
       " 0,\n",
       " 0,\n",
       " 0,\n",
       " 0,\n",
       " 0,\n",
       " 0,\n",
       " 0,\n",
       " 0,\n",
       " 0,\n",
       " 0,\n",
       " 0,\n",
       " 0,\n",
       " 0,\n",
       " 0,\n",
       " 0,\n",
       " 0,\n",
       " 0,\n",
       " 0,\n",
       " 0,\n",
       " 0,\n",
       " 0,\n",
       " 0,\n",
       " 0,\n",
       " 0,\n",
       " 1,\n",
       " 0,\n",
       " 0,\n",
       " 0,\n",
       " 0,\n",
       " 0,\n",
       " 1,\n",
       " 0,\n",
       " 0,\n",
       " 0,\n",
       " 0,\n",
       " 0,\n",
       " 0,\n",
       " 0,\n",
       " 1,\n",
       " 0,\n",
       " 0,\n",
       " 0,\n",
       " 0,\n",
       " 0,\n",
       " 0,\n",
       " 0,\n",
       " 0,\n",
       " 0,\n",
       " 1,\n",
       " 0,\n",
       " 0,\n",
       " 0,\n",
       " 0,\n",
       " 0,\n",
       " 0,\n",
       " 0,\n",
       " 0,\n",
       " 0,\n",
       " 0,\n",
       " 1,\n",
       " 0,\n",
       " 0,\n",
       " 0,\n",
       " 1,\n",
       " 1,\n",
       " 0,\n",
       " 1,\n",
       " 0,\n",
       " 0,\n",
       " 0,\n",
       " 0,\n",
       " 0,\n",
       " 0,\n",
       " 0,\n",
       " 0,\n",
       " 0,\n",
       " 0,\n",
       " 0,\n",
       " 0,\n",
       " 0,\n",
       " 0,\n",
       " 1,\n",
       " 0,\n",
       " 0,\n",
       " 1,\n",
       " 0,\n",
       " 0,\n",
       " 0,\n",
       " 0,\n",
       " 0,\n",
       " 1,\n",
       " 0,\n",
       " 0,\n",
       " 0,\n",
       " 0,\n",
       " 0,\n",
       " 1,\n",
       " 1,\n",
       " 1,\n",
       " 1,\n",
       " 0,\n",
       " 0,\n",
       " 0,\n",
       " 0,\n",
       " 0,\n",
       " 0,\n",
       " 0,\n",
       " 0,\n",
       " 0,\n",
       " 0,\n",
       " 0,\n",
       " 0,\n",
       " 0,\n",
       " 1,\n",
       " 1,\n",
       " 0,\n",
       " 0,\n",
       " 0,\n",
       " 0,\n",
       " 0,\n",
       " 0,\n",
       " 0,\n",
       " 0,\n",
       " 0,\n",
       " 0,\n",
       " 0,\n",
       " 0,\n",
       " 0,\n",
       " 0,\n",
       " 0,\n",
       " 0,\n",
       " 0,\n",
       " 0,\n",
       " 0,\n",
       " 0,\n",
       " 0,\n",
       " 0,\n",
       " 1,\n",
       " 0,\n",
       " 0,\n",
       " 0,\n",
       " 0,\n",
       " 0,\n",
       " 0,\n",
       " 0,\n",
       " 0,\n",
       " 0,\n",
       " 1,\n",
       " 0,\n",
       " 0,\n",
       " 0,\n",
       " 0,\n",
       " 0,\n",
       " 1,\n",
       " 0,\n",
       " 0,\n",
       " 0,\n",
       " 0,\n",
       " 0,\n",
       " 0,\n",
       " 0,\n",
       " 0,\n",
       " 1,\n",
       " 0,\n",
       " 1,\n",
       " 0,\n",
       " 0,\n",
       " 1,\n",
       " 0,\n",
       " 0,\n",
       " 0,\n",
       " 0,\n",
       " 0,\n",
       " 1,\n",
       " 0,\n",
       " 0,\n",
       " 1,\n",
       " 0,\n",
       " 0,\n",
       " 0,\n",
       " 0,\n",
       " 0,\n",
       " 0,\n",
       " 0,\n",
       " 0,\n",
       " 0,\n",
       " 0,\n",
       " 0,\n",
       " 0,\n",
       " 0,\n",
       " 0,\n",
       " 0,\n",
       " 0,\n",
       " 0,\n",
       " 0,\n",
       " 1,\n",
       " 0,\n",
       " 0,\n",
       " 0,\n",
       " 1,\n",
       " 0,\n",
       " 0,\n",
       " 0,\n",
       " 0,\n",
       " 0,\n",
       " 0,\n",
       " 0,\n",
       " 0,\n",
       " 0,\n",
       " 0,\n",
       " 0,\n",
       " 0,\n",
       " 0,\n",
       " 0,\n",
       " 0,\n",
       " 0,\n",
       " 0,\n",
       " 0,\n",
       " 0,\n",
       " 0,\n",
       " 0,\n",
       " 0,\n",
       " 0,\n",
       " 0,\n",
       " 0,\n",
       " 0,\n",
       " 0,\n",
       " 0,\n",
       " 0,\n",
       " 0,\n",
       " 0,\n",
       " 0,\n",
       " 0,\n",
       " 0,\n",
       " 0,\n",
       " 1,\n",
       " 0,\n",
       " 0,\n",
       " 0,\n",
       " 0,\n",
       " 0,\n",
       " 0,\n",
       " 0,\n",
       " 0,\n",
       " 0,\n",
       " 0,\n",
       " 0,\n",
       " 0,\n",
       " 1,\n",
       " 0,\n",
       " 0,\n",
       " 0,\n",
       " 0,\n",
       " 0,\n",
       " 0,\n",
       " 0,\n",
       " 0,\n",
       " 0,\n",
       " 0,\n",
       " 0,\n",
       " 0,\n",
       " 1,\n",
       " 0,\n",
       " 0,\n",
       " 0,\n",
       " 0,\n",
       " 0,\n",
       " 0,\n",
       " 0,\n",
       " 0,\n",
       " 0,\n",
       " 0,\n",
       " 0,\n",
       " 0,\n",
       " 0,\n",
       " 0,\n",
       " 0,\n",
       " 1,\n",
       " 0,\n",
       " 0,\n",
       " 0,\n",
       " 0,\n",
       " 0,\n",
       " 0,\n",
       " 0,\n",
       " 0,\n",
       " ...]"
      ]
     },
     "execution_count": 7,
     "metadata": {},
     "output_type": "execute_result"
    }
   ],
   "source": [
    "predictions = []\n",
    "\n",
    "for index in range(0, len(X_test)):\n",
    "    if index in prediction_indices:\n",
    "        predictions.append(1)\n",
    "    else:\n",
    "        predictions.append(0)\n",
    "        \n",
    "predictions"
   ]
  },
  {
   "cell_type": "markdown",
   "metadata": {},
   "source": [
    "Let's put this all together, performing a grid search of the hyperparameter state space. In this search we'll experiment with the cutoff threshold as the main hyperparameter."
   ]
  },
  {
   "cell_type": "code",
   "execution_count": 2,
   "metadata": {
    "scrolled": true
   },
   "outputs": [
    {
     "name": "stdout",
     "output_type": "stream",
     "text": [
      "Starting grid search\n",
      "Testing threshold : 0.7\n",
      "Score : 0.5262649356938056\n",
      "\n",
      "Testing threshold : 0.75\n",
      "Score : 0.5248661988291334\n",
      "\n",
      "Testing threshold : 0.8\n",
      "Score : 0.5230720155499322\n",
      "\n",
      "Testing threshold : 0.85\n",
      "Score : 0.5217341744154144\n",
      "\n",
      "Testing threshold : 0.9\n",
      "Score : 0.5203529507803455\n",
      "\n",
      "Testing threshold : 0.95\n",
      "Score : 0.5185364144829746\n",
      "\n",
      "Grid search complete\n",
      "Best score : 0.5262649356938056\n",
      "Best cutoff threshold : 70\n"
     ]
    }
   ],
   "source": [
    "X = pandas.read_pickle('../data/refined-cicids2017.pkl').drop(['Destination Port'], axis=1)\n",
    "Y = pandas.read_pickle('../data/simplified-labels.pkl')\n",
    "\n",
    "X_train, X_test, Y_train, Y_test = train_test_split(X, Y, train_size=0.8, test_size=0.2, shuffle=True)\n",
    "\n",
    "covariance = numpy.cov(X_train, rowvar=0)\n",
    "inverse_covariance = numpy.linalg.pinv(covariance)\n",
    "centerpoint = numpy.mean(X_train, axis=0)\n",
    "\n",
    "distances = []\n",
    "\n",
    "for index, record in X_test.iterrows():\n",
    "    p1 = record\n",
    "    p2 = centerpoint\n",
    "    distance = (p1 - p2).T.dot(inverse_covariance).dot(p1 - p2)\n",
    "    distances.append(distance)\n",
    "\n",
    "distances = numpy.array(distances)\n",
    "\n",
    "# Search cutoff 0.70 through 0.95\n",
    "best_predictions = []\n",
    "best_roc_auc_score = 0\n",
    "best_cutoff_threshold = 0\n",
    "\n",
    "print('Starting grid search')\n",
    "for cutoff_threshold in range(70, 100, 5):\n",
    "    print('Testing threshold : ' + str(cutoff_threshold / 100))\n",
    "    cutoff = scipy.stats.chi2.ppf((cutoff_threshold / 100), X_test.shape[1])\n",
    "    prediction_indices = numpy.where(distances > cutoff)[0]\n",
    "    \n",
    "    predictions = []\n",
    "    for index in range(0, len(X_test)):\n",
    "        if index in prediction_indices:\n",
    "            predictions.append(1)\n",
    "        else:\n",
    "            predictions.append(0)\n",
    "    \n",
    "    score = roc_auc_score(Y_test, predictions)\n",
    "    print('Score : ' + str(score))\n",
    "    print()\n",
    "    \n",
    "    if score > best_roc_auc_score:\n",
    "        best_roc_auc_score = score\n",
    "        best_cutoff_threshold = cutoff_threshold\n",
    "        best_predictions = predictions\n",
    "        \n",
    "print('Grid search complete')\n",
    "print('Best score : ' + str(best_roc_auc_score))\n",
    "print('Best cutoff threshold : ' + str(best_cutoff_threshold))\n",
    "\n",
    "numpy.save('../data/mahalanobis-predictions.npy', best_predictions)\n",
    "numpy.save('../data/mahalanobis-targets.npy', Y_test)\n",
    "numpy.save('../data/mahalanobis-score.npy', best_roc_auc_score)"
   ]
  },
  {
   "cell_type": "markdown",
   "metadata": {},
   "source": [
    "### Experiment 2: Isolation Forest"
   ]
  },
  {
   "cell_type": "markdown",
   "metadata": {},
   "source": [
    "In this experiment we employ a technique that takes advantage of the idea that anomalies are few in number and distant from normal data points, thus making them easier to isolate. The isolation forest algorithm repeatedly selects a feature at random and then selects a random value for that feature within the range of allowable values, dividing the data along that random value for the given random feature and thereby partitioning the data at that point. The repeated process of partitioning smaller and smaller regions of space can be considered from the perspective of a tree structure, with leaves representing the smaller partitions produced by each division. This process occurs in a hierarchical fashion, with partitions of space at the same distance from the root node of the isolation tree being divided before partitions at lower levels.\n",
    "\n",
    "At some point in this process every point will exist within its own partition, and a length can be computed from the root node to the isolating leaf to determine how many partitioning steps were required to isolate a given point. Points that are successfully isolated in fewer steps are then considered anomalous based on the assumption that anomalies are inherently easier to isolate. This algorithm makes the assumption that an anomalous point will be easier to isolate using random hierarchical partitioning, which is not necessarily true for every dataset."
   ]
  },
  {
   "cell_type": "markdown",
   "metadata": {},
   "source": [
    "We'll begin by loading our samples and targets."
   ]
  },
  {
   "cell_type": "code",
   "execution_count": 2,
   "metadata": {},
   "outputs": [],
   "source": [
    "X = pandas.read_pickle('../data/refined-cicids2017.pkl')\n",
    "Y = pandas.read_pickle('../data/simplified-labels.pkl')"
   ]
  },
  {
   "cell_type": "markdown",
   "metadata": {},
   "source": [
    "Next, we'll split our dataset into a training set and a test set. We'll use an 80/20 split across all techniques for consistency."
   ]
  },
  {
   "cell_type": "code",
   "execution_count": 3,
   "metadata": {},
   "outputs": [],
   "source": [
    "X_train, X_test, Y_train, Y_test = train_test_split(X, Y, train_size=0.8, test_size=0.2, shuffle=True)"
   ]
  },
  {
   "cell_type": "markdown",
   "metadata": {},
   "source": [
    "Then we define and train our model against the training set."
   ]
  },
  {
   "cell_type": "code",
   "execution_count": 4,
   "metadata": {
    "scrolled": true
   },
   "outputs": [
    {
     "name": "stderr",
     "output_type": "stream",
     "text": [
      "[Parallel(n_jobs=1)]: Using backend SequentialBackend with 1 concurrent workers.\n",
      "[Parallel(n_jobs=1)]: Done   1 out of   1 | elapsed:  1.3min finished\n"
     ]
    }
   ],
   "source": [
    "isoforest = IsolationForest(n_estimators=100, verbose=1, warm_start=False).fit(X_train)"
   ]
  },
  {
   "cell_type": "markdown",
   "metadata": {},
   "source": [
    "We can now use our model to make predictions against the test set."
   ]
  },
  {
   "cell_type": "code",
   "execution_count": 5,
   "metadata": {},
   "outputs": [],
   "source": [
    "predictions = isoforest.predict(X_test)"
   ]
  },
  {
   "cell_type": "markdown",
   "metadata": {},
   "source": [
    "Let's put this all together, performing a grid search of the hyperparameter state space. In this search we'll experiment with the number of estimators as the main hyperparameter."
   ]
  },
  {
   "cell_type": "code",
   "execution_count": 2,
   "metadata": {
    "scrolled": true
   },
   "outputs": [
    {
     "name": "stdout",
     "output_type": "stream",
     "text": [
      "Starting grid search\n",
      "Testing number of estimators : 100\n"
     ]
    },
    {
     "name": "stderr",
     "output_type": "stream",
     "text": [
      "[Parallel(n_jobs=1)]: Using backend SequentialBackend with 1 concurrent workers.\n",
      "[Parallel(n_jobs=1)]: Done   1 out of   1 | elapsed:  1.3min finished\n"
     ]
    },
    {
     "name": "stdout",
     "output_type": "stream",
     "text": [
      "Score : 0.4062163880038397\n",
      "\n",
      "Testing number of estimators : 200\n"
     ]
    },
    {
     "name": "stderr",
     "output_type": "stream",
     "text": [
      "[Parallel(n_jobs=1)]: Using backend SequentialBackend with 1 concurrent workers.\n",
      "[Parallel(n_jobs=1)]: Done   1 out of   1 | elapsed:  2.5min finished\n"
     ]
    },
    {
     "name": "stdout",
     "output_type": "stream",
     "text": [
      "Score : 0.43552818722504205\n",
      "\n",
      "Testing number of estimators : 300\n"
     ]
    },
    {
     "name": "stderr",
     "output_type": "stream",
     "text": [
      "[Parallel(n_jobs=1)]: Using backend SequentialBackend with 1 concurrent workers.\n",
      "[Parallel(n_jobs=1)]: Done   1 out of   1 | elapsed:  3.8min finished\n"
     ]
    },
    {
     "name": "stdout",
     "output_type": "stream",
     "text": [
      "Score : 0.40776504697227695\n",
      "\n",
      "Testing number of estimators : 400\n"
     ]
    },
    {
     "name": "stderr",
     "output_type": "stream",
     "text": [
      "[Parallel(n_jobs=1)]: Using backend SequentialBackend with 1 concurrent workers.\n",
      "[Parallel(n_jobs=1)]: Done   1 out of   1 | elapsed:  5.0min finished\n"
     ]
    },
    {
     "name": "stdout",
     "output_type": "stream",
     "text": [
      "Score : 0.41602419663869933\n",
      "\n",
      "Testing number of estimators : 500\n"
     ]
    },
    {
     "name": "stderr",
     "output_type": "stream",
     "text": [
      "[Parallel(n_jobs=1)]: Using backend SequentialBackend with 1 concurrent workers.\n",
      "[Parallel(n_jobs=1)]: Done   1 out of   1 | elapsed:  6.3min finished\n"
     ]
    },
    {
     "name": "stdout",
     "output_type": "stream",
     "text": [
      "Score : 0.40985502376518923\n",
      "\n",
      "Grid search complete\n",
      "Best score : 0.43552818722504205\n",
      "Best number of estimators : 200\n"
     ]
    }
   ],
   "source": [
    "X = pandas.read_pickle('../data/refined-cicids2017.pkl')\n",
    "Y = pandas.read_pickle('../data/simplified-labels.pkl')\n",
    "\n",
    "# Search k 5 through 25\n",
    "best_predictions = []\n",
    "best_roc_auc_score = 0\n",
    "best_n_estimators = 0\n",
    "\n",
    "print('Starting grid search')\n",
    "for n_estimators in range(100, 600, 100):\n",
    "    print('Testing number of estimators : ' + str(n_estimators))\n",
    "    X_train, X_test, Y_train, Y_test = train_test_split(X, Y, train_size=0.8, test_size=0.2, shuffle=True)\n",
    "    \n",
    "    isoforest = IsolationForest(n_estimators=n_estimators, verbose=1, warm_start=False)\n",
    "    isoforest.fit(X_train)\n",
    "    \n",
    "    predictions = isoforest.predict(X_test)\n",
    "    score = roc_auc_score(Y_test, predictions)\n",
    "    print('Score : ' + str(score))\n",
    "    print()\n",
    "    \n",
    "    if score > best_roc_auc_score:\n",
    "        best_roc_auc_score = score\n",
    "        best_n_estimators = n_estimators\n",
    "        best_predictions = predictions\n",
    "        \n",
    "print('Grid search complete')\n",
    "print('Best score : ' + str(best_roc_auc_score))\n",
    "print('Best number of estimators : ' + str(best_n_estimators))\n",
    "\n",
    "numpy.save('../data/isoforest-predictions.npy', best_predictions)\n",
    "numpy.save('../data/isoforest-targets.npy', Y_test)\n",
    "numpy.save('../data/isoforest-score.npy', best_roc_auc_score)"
   ]
  },
  {
   "cell_type": "markdown",
   "metadata": {},
   "source": [
    "### Experiment 3: Multiple Linear Regression"
   ]
  },
  {
   "cell_type": "markdown",
   "metadata": {},
   "source": [
    "In this experiment we employ a very traditional technique for classification tasks that uses a linear model as a mechanism for detecting anomalies. The linear regression algorithm begins generating a linear model of the data by choosing a line at random. It then iterates by making small adjustments to the model based on the proximity of the line to each of the points in the dataset, attempting to minimize a squared error cost function in order to achieve the best possible fit to the training data. New points can be plotted against the linear model to generate predictions about their labels, represented by the Y axis of the linear model. This technique assumes that a linear model can portray the relationship between sample features and their labels, which is not necessarily true for every dataset."
   ]
  },
  {
   "cell_type": "markdown",
   "metadata": {},
   "source": [
    "We'll begin by loading our samples and targets."
   ]
  },
  {
   "cell_type": "code",
   "execution_count": 2,
   "metadata": {},
   "outputs": [],
   "source": [
    "X = pandas.read_pickle('../data/refined-cicids2017.pkl')\n",
    "Y = pandas.read_pickle('../data/simplified-labels.pkl')"
   ]
  },
  {
   "cell_type": "markdown",
   "metadata": {},
   "source": [
    "Next, we'll split our dataset into a training set and a test set. We'll use an 80/20 split across all techniques for consistency."
   ]
  },
  {
   "cell_type": "code",
   "execution_count": 3,
   "metadata": {},
   "outputs": [],
   "source": [
    "X_train, X_test, Y_train, Y_test = train_test_split(X, Y, train_size=0.8, test_size=0.2, shuffle=True)"
   ]
  },
  {
   "cell_type": "markdown",
   "metadata": {},
   "source": [
    "Then we define and train our model against the training set."
   ]
  },
  {
   "cell_type": "code",
   "execution_count": 4,
   "metadata": {},
   "outputs": [
    {
     "data": {
      "text/plain": [
       "LinearRegression()"
      ]
     },
     "execution_count": 4,
     "metadata": {},
     "output_type": "execute_result"
    }
   ],
   "source": [
    "regressor = LinearRegression()\n",
    "regressor.fit(X_train, Y_train)"
   ]
  },
  {
   "cell_type": "markdown",
   "metadata": {},
   "source": [
    "We can now use our model to make predictions against the test set."
   ]
  },
  {
   "cell_type": "code",
   "execution_count": 5,
   "metadata": {},
   "outputs": [],
   "source": [
    "predictions = regressor.predict(X_test)"
   ]
  },
  {
   "cell_type": "markdown",
   "metadata": {},
   "source": [
    "Next we can evaluate our predictions against our test labels."
   ]
  },
  {
   "cell_type": "code",
   "execution_count": 6,
   "metadata": {},
   "outputs": [],
   "source": [
    "score = roc_auc_score(Y_test, predictions)"
   ]
  },
  {
   "cell_type": "markdown",
   "metadata": {},
   "source": [
    "Finally, we write this model's predictions to disk for further analysis."
   ]
  },
  {
   "cell_type": "code",
   "execution_count": 7,
   "metadata": {},
   "outputs": [],
   "source": [
    "numpy.save('../data/multiple-linear-regression-predictions.npy', predictions)\n",
    "numpy.save('../data/multiple-linear-regression-targets.npy', Y_test)\n",
    "numpy.save('../data/multiple-linear-regression-score.npy', score)"
   ]
  },
  {
   "cell_type": "markdown",
   "metadata": {},
   "source": [
    "### Experiment 4: Principal Component Analysis and K-Nearest Neighbors"
   ]
  },
  {
   "cell_type": "markdown",
   "metadata": {},
   "source": [
    "In this experiment we employ both a technique for dimensionality reduction and a technique for anomaly detection.\n",
    "\n",
    "First we employ a technique for dimensionality reduction called Principal Component Analysis that, at a high level, uses the variance of each feature to determine which features are more important than others and to generate a lower dimensional view of the data consisting of linear transformations of features deemed to be the most import. This technique makes the assumption that features with greater variance are the most important.\n",
    "\n",
    "Next we employ a technique that uses the labels of other points in proximity to a given point to determine whether it is anomalous. The K-Nearest Neighbors algorithm computes the Euclidean distances from a given point to all other points in a dataset to determine its nearest neighbors. The algorithm will then poll the class labels of the given point's k nearest neighbors, using the majority occurrence to predict the label of the new point. Dimensionality reduction is important when making use of this algorithm as a way to greatly reduce the temporal complexity of both training and making predictions. This technique makes the assumption that an anomalous point is close to other anomalies, which is not necessarily true for every dataset."
   ]
  },
  {
   "cell_type": "markdown",
   "metadata": {},
   "source": [
    "We'll begin by loading our samples and targets."
   ]
  },
  {
   "cell_type": "code",
   "execution_count": 2,
   "metadata": {},
   "outputs": [],
   "source": [
    "X = pandas.read_pickle('../data/refined-cicids2017.pkl')\n",
    "Y = pandas.read_pickle('../data/simplified-labels.pkl')"
   ]
  },
  {
   "cell_type": "markdown",
   "metadata": {},
   "source": [
    "Next, we'll split our dataset into a training set and a test set. We'll use an 80/20 split across all techniques for consistency."
   ]
  },
  {
   "cell_type": "code",
   "execution_count": 3,
   "metadata": {},
   "outputs": [],
   "source": [
    "X_train, X_test, Y_train, Y_test = train_test_split(X, Y, train_size=0.8, test_size=0.2, shuffle=True)"
   ]
  },
  {
   "cell_type": "code",
   "execution_count": 4,
   "metadata": {},
   "outputs": [
    {
     "data": {
      "text/plain": [
       "PCA()"
      ]
     },
     "execution_count": 4,
     "metadata": {},
     "output_type": "execute_result"
    }
   ],
   "source": [
    "pca = PCA()\n",
    "pca.fit(X_train)"
   ]
  },
  {
   "cell_type": "code",
   "execution_count": 5,
   "metadata": {},
   "outputs": [
    {
     "data": {
      "text/plain": [
       "6"
      ]
     },
     "execution_count": 5,
     "metadata": {},
     "output_type": "execute_result"
    }
   ],
   "source": [
    "cumsum = numpy.cumsum(pca.explained_variance_ratio_)\n",
    "d = numpy.argmax(cumsum > 0.99) + 1\n",
    "d"
   ]
  },
  {
   "cell_type": "code",
   "execution_count": 6,
   "metadata": {},
   "outputs": [],
   "source": [
    "pca = PCA(n_components = d)\n",
    "X_train_reduced = pca.fit_transform(X_train)"
   ]
  },
  {
   "cell_type": "markdown",
   "metadata": {},
   "source": [
    "Then we define and train our model against the training set."
   ]
  },
  {
   "cell_type": "code",
   "execution_count": 12,
   "metadata": {},
   "outputs": [
    {
     "data": {
      "text/plain": [
       "KNeighborsClassifier()"
      ]
     },
     "execution_count": 12,
     "metadata": {},
     "output_type": "execute_result"
    }
   ],
   "source": [
    "knn = KNeighborsClassifier(n_neighbors=5)\n",
    "knn.fit(X_train_reduced, Y_train.values.ravel())"
   ]
  },
  {
   "cell_type": "markdown",
   "metadata": {},
   "source": [
    "We can now use our model to make predictions against the test set."
   ]
  },
  {
   "cell_type": "code",
   "execution_count": 13,
   "metadata": {},
   "outputs": [],
   "source": [
    "predictions = knn.predict(X_test_reduced)"
   ]
  },
  {
   "cell_type": "markdown",
   "metadata": {},
   "source": [
    "Let's put this all together, performing a grid search of the hyperparameter state space. In this search we'll experiment with k as the main hyperparameter."
   ]
  },
  {
   "cell_type": "code",
   "execution_count": 2,
   "metadata": {
    "scrolled": true
   },
   "outputs": [
    {
     "name": "stdout",
     "output_type": "stream",
     "text": [
      "Starting grid search\n",
      "Testing k : 5\n",
      "Reduced dimensions to : 7\n",
      "Score : 0.9932827698608213\n",
      "\n",
      "Testing k : 10\n",
      "Reduced dimensions to : 6\n",
      "Score : 0.9907778188180968\n",
      "\n",
      "Testing k : 15\n",
      "Reduced dimensions to : 6\n",
      "Score : 0.9899922512804309\n",
      "\n",
      "Testing k : 20\n",
      "Reduced dimensions to : 6\n",
      "Score : 0.9896925994395019\n",
      "\n",
      "Testing k : 25\n",
      "Reduced dimensions to : 6\n",
      "Score : 0.9888885103174644\n",
      "\n",
      "Grid search complete\n",
      "Best score : 0.9932827698608213\n",
      "Best k : 5\n",
      "Best d : 6\n"
     ]
    }
   ],
   "source": [
    "X = pandas.read_pickle('../data/refined-cicids2017.pkl')\n",
    "Y = pandas.read_pickle('../data/simplified-labels.pkl')\n",
    "\n",
    "# Search k 5 through 25\n",
    "best_predictions = []\n",
    "best_roc_auc_score = 0\n",
    "best_k = 0\n",
    "best_d = 0\n",
    "\n",
    "print('Starting grid search')\n",
    "for k in range(5, 30, 5):\n",
    "    print('Testing k : ' + str(k))\n",
    "    X_train, X_test, Y_train, Y_test = train_test_split(X, Y, train_size=0.8, test_size=0.2, shuffle=True)\n",
    "    \n",
    "    pca = PCA()\n",
    "    pca.fit(X_train)\n",
    "    \n",
    "    cumsum = numpy.cumsum(pca.explained_variance_ratio_)\n",
    "    d = numpy.argmax(cumsum > 0.99) + 1\n",
    "    print('Reduced dimensions to : ' + str(d))\n",
    "    \n",
    "    pca = PCA(n_components = d)\n",
    "    X_train_reduced = pca.fit_transform(X_train)\n",
    "    X_test_reduced = pca.transform(X_test)\n",
    "    \n",
    "    knn = KNeighborsClassifier(n_neighbors=k)\n",
    "    knn.fit(X_train_reduced, Y_train.values.ravel())\n",
    "    \n",
    "    predictions = knn.predict(X_test_reduced)\n",
    "    score = roc_auc_score(Y_test, predictions)\n",
    "    print('Score : ' + str(score))\n",
    "    print()\n",
    "    \n",
    "    if score > best_roc_auc_score:\n",
    "        best_roc_auc_score = score\n",
    "        best_k = k\n",
    "        best_d = d\n",
    "        best_predictions = predictions\n",
    "        \n",
    "print('Grid search complete')\n",
    "print('Best score : ' + str(best_roc_auc_score))\n",
    "print('Best k : ' + str(best_k))\n",
    "print('Best d : ' + str(d))\n",
    "\n",
    "numpy.save('../data/pca-knn-predictions.npy', best_predictions)\n",
    "numpy.save('../data/pca-knn-targets.npy', Y_test)\n",
    "numpy.save('../data/pca-knn-score.npy', best_roc_auc_score)"
   ]
  },
  {
   "cell_type": "markdown",
   "metadata": {},
   "source": [
    "Finally, we write this model's predictions to disk for further analysis."
   ]
  },
  {
   "cell_type": "code",
   "execution_count": 14,
   "metadata": {},
   "outputs": [],
   "source": [
    "numpy.save('../data/pca-knn-predictions.pkl', predictions)"
   ]
  },
  {
   "cell_type": "markdown",
   "metadata": {},
   "source": [
    "### Experiment 5: Principal Component Analysis and Local Outlier Factor"
   ]
  },
  {
   "cell_type": "markdown",
   "metadata": {},
   "source": [
    "In this experiment we employ both a technique for dimensionality reduction and a technique for anomaly detection.\n",
    "\n",
    "First we employ Principal Component Analysis for dimensionality reduction, which was described previously in the Experiment 5 subsection. Next we employ a technique that uses the local density surrounding a point as a mechanism for detecting anomalies. The local outlier factor of a point is a measure of local density estimated using the distances from a given point to its k nearest neighbors. A lower local outlier factor will correspond to a point existing in a lower density region of the state space. Dimensionality reduction is important when making use of this algorithm as a way to greatly reduce the temporal complexity of both training and making predictions.  This technique makes the assumption that an anomalous point will exist in a lower density region of the state space."
   ]
  },
  {
   "cell_type": "code",
   "execution_count": 2,
   "metadata": {},
   "outputs": [],
   "source": [
    "X = pandas.read_pickle('../data/refined-cicids2017.pkl')\n",
    "Y = pandas.read_pickle('../data/simplified-labels.pkl')"
   ]
  },
  {
   "cell_type": "code",
   "execution_count": 3,
   "metadata": {},
   "outputs": [],
   "source": [
    "X_train, X_test, Y_train, Y_test = train_test_split(X, Y, train_size=0.8, test_size=0.2, shuffle=True)"
   ]
  },
  {
   "cell_type": "code",
   "execution_count": 4,
   "metadata": {},
   "outputs": [
    {
     "data": {
      "text/plain": [
       "PCA()"
      ]
     },
     "execution_count": 4,
     "metadata": {},
     "output_type": "execute_result"
    }
   ],
   "source": [
    "pca = PCA()\n",
    "pca.fit(X_train)"
   ]
  },
  {
   "cell_type": "code",
   "execution_count": 5,
   "metadata": {},
   "outputs": [
    {
     "data": {
      "text/plain": [
       "7"
      ]
     },
     "execution_count": 5,
     "metadata": {},
     "output_type": "execute_result"
    }
   ],
   "source": [
    "cumsum = numpy.cumsum(pca.explained_variance_ratio_)\n",
    "d = numpy.argmax(cumsum > 0.99) + 1\n",
    "d"
   ]
  },
  {
   "cell_type": "code",
   "execution_count": 9,
   "metadata": {},
   "outputs": [],
   "source": [
    "pca = PCA(n_components = d)\n",
    "X_train_reduced = pca.fit_transform(X_train)\n",
    "X_test_reduced = pca.transform(X_test)"
   ]
  },
  {
   "cell_type": "markdown",
   "metadata": {},
   "source": [
    "Then we define and train our model against the training set."
   ]
  },
  {
   "cell_type": "code",
   "execution_count": 7,
   "metadata": {},
   "outputs": [
    {
     "data": {
      "text/plain": [
       "LocalOutlierFactor(n_neighbors=5, novelty=True)"
      ]
     },
     "execution_count": 7,
     "metadata": {},
     "output_type": "execute_result"
    }
   ],
   "source": [
    "lof = LocalOutlierFactor(n_neighbors=5, novelty=True)\n",
    "lof.fit(X_train_reduced, Y_train.values.ravel())"
   ]
  },
  {
   "cell_type": "code",
   "execution_count": 11,
   "metadata": {},
   "outputs": [],
   "source": [
    "predictions = lof.predict(X_test_reduced)"
   ]
  },
  {
   "cell_type": "markdown",
   "metadata": {},
   "source": [
    "Let's put this all together, performing a grid search of the hyperparameter state space. In this search we'll experiment with k as the main hyperparameter."
   ]
  },
  {
   "cell_type": "code",
   "execution_count": 2,
   "metadata": {
    "scrolled": true
   },
   "outputs": [
    {
     "name": "stdout",
     "output_type": "stream",
     "text": [
      "Starting grid search\n",
      "Testing k : 5\n",
      "Reduced dimensions to : 6\n",
      "Score : 0.44085340451245314\n",
      "\n",
      "Testing k : 10\n",
      "Reduced dimensions to : 6\n",
      "Score : 0.44696332612020945\n",
      "\n",
      "Testing k : 15\n",
      "Reduced dimensions to : 6\n",
      "Score : 0.4480352108497674\n",
      "\n",
      "Testing k : 20\n",
      "Reduced dimensions to : 6\n",
      "Score : 0.45044181658947335\n",
      "\n",
      "Testing k : 25\n",
      "Reduced dimensions to : 6\n",
      "Score : 0.45253187697274166\n",
      "\n",
      "Grid search complete\n",
      "Best score : 0.45253187697274166\n",
      "Best k : 25\n",
      "Best d : 6\n"
     ]
    }
   ],
   "source": [
    "X = pandas.read_pickle('../data/refined-cicids2017.pkl')\n",
    "Y = pandas.read_pickle('../data/simplified-labels.pkl')\n",
    "\n",
    "# Search k 5 through 25\n",
    "best_predictions = []\n",
    "best_roc_auc_score = 0\n",
    "best_k = 0\n",
    "best_d = 0\n",
    "\n",
    "print('Starting grid search')\n",
    "for k in range(5, 30, 5):\n",
    "    print('Testing k : ' + str(k))\n",
    "    X_train, X_test, Y_train, Y_test = train_test_split(X, Y, train_size=0.8, test_size=0.2, shuffle=True)\n",
    "    \n",
    "    pca = PCA()\n",
    "    pca.fit(X_train)\n",
    "    \n",
    "    cumsum = numpy.cumsum(pca.explained_variance_ratio_)\n",
    "    d = numpy.argmax(cumsum > 0.99) + 1\n",
    "    print('Reduced dimensions to : ' + str(d))\n",
    "    \n",
    "    pca = PCA(n_components = d)\n",
    "    X_train_reduced = pca.fit_transform(X_train)\n",
    "    X_test_reduced = pca.transform(X_test)\n",
    "    \n",
    "    lof = LocalOutlierFactor(n_neighbors=k, novelty=True)\n",
    "    lof.fit(X_train_reduced, Y_train.values.ravel())\n",
    "    \n",
    "    predictions = lof.predict(X_test_reduced)\n",
    "    score = roc_auc_score(Y_test, predictions)\n",
    "    print('Score : ' + str(score))\n",
    "    print()\n",
    "    \n",
    "    if score > best_roc_auc_score:\n",
    "        best_roc_auc_score = score\n",
    "        best_k = k\n",
    "        best_d = d\n",
    "        best_predictions = predictions\n",
    "        \n",
    "print('Grid search complete')\n",
    "print('Best score : ' + str(best_roc_auc_score))\n",
    "print('Best k : ' + str(best_k))\n",
    "print('Best d : ' + str(d))\n",
    "\n",
    "numpy.save('../data/pca-lof-predictions.npy', best_predictions)\n",
    "numpy.save('../data/pca-lof-targets.npy', Y_test)\n",
    "numpy.save('../data/pca-lof-score.npy', best_roc_auc_score)"
   ]
  },
  {
   "cell_type": "markdown",
   "metadata": {},
   "source": [
    "## Evaluation"
   ]
  },
  {
   "cell_type": "markdown",
   "metadata": {
    "slideshow": {
     "slide_type": "slide"
    }
   },
   "source": [
    "In this section we evaluate the performance of each anomaly detection technique."
   ]
  },
  {
   "cell_type": "markdown",
   "metadata": {},
   "source": [
    "We'll start by loading all of our model predictions for further evaluation."
   ]
  },
  {
   "cell_type": "code",
   "execution_count": 2,
   "metadata": {},
   "outputs": [],
   "source": [
    "# Experiment 1\n",
    "mahalanobis_predictions = numpy.load('../data/mahalanobis-predictions.npy')\n",
    "mahalanobis_targets = numpy.load('../data/mahalanobis-targets.npy')\n",
    "\n",
    "# Experiment 2\n",
    "isoforest_predictions = numpy.load('../data/isoforest-predictions.npy')\n",
    "isoforest_targets = numpy.load('../data/isoforest-targets.npy')\n",
    "\n",
    "# Experiment 3\n",
    "regression_predictions = numpy.load('../data/multiple-linear-regression-predictions.npy')\n",
    "regression_targets = numpy.load('../data/multiple-linear-regression-targets.npy')\n",
    "\n",
    "# Experiment 4\n",
    "pca_knn_predictions = numpy.load('../data/pca-knn-predictions.npy')\n",
    "pca_knn_targets = numpy.load('../data/pca-knn-targets.npy')\n",
    "\n",
    "# Experiment 5\n",
    "pca_lof_predictions = numpy.load('../data/pca-lof-predictions.npy')\n",
    "pca_lof_targets = numpy.load('../data/pca-lof-targets.npy')"
   ]
  },
  {
   "cell_type": "markdown",
   "metadata": {},
   "source": [
    "Next we'll force all predictions to encode as 0 or 1."
   ]
  },
  {
   "cell_type": "code",
   "execution_count": 3,
   "metadata": {},
   "outputs": [],
   "source": [
    "for index in range(0, len(isoforest_predictions)):\n",
    "    if isoforest_predictions[index] == -1:\n",
    "        isoforest_predictions[index] = 0\n",
    "\n",
    "for index in range(0, len(regression_predictions)):\n",
    "    if regression_predictions[index] >= 0.5:\n",
    "        regression_predictions[index] = 1\n",
    "    else:\n",
    "        regression_predictions[index] = 0\n",
    "        \n",
    "for index in range(0, len(pca_lof_predictions)):\n",
    "    if pca_lof_predictions[index] == -1:\n",
    "        pca_lof_predictions[index] = 0"
   ]
  },
  {
   "cell_type": "markdown",
   "metadata": {},
   "source": [
    "The first metric I'd like to compute is the percentage of anomalies accurately labeled by each technique out of all anomalies. This metric is known as recall and will help us to immediately understand how well our models were able to detect anomalies."
   ]
  },
  {
   "cell_type": "code",
   "execution_count": 4,
   "metadata": {
    "scrolled": true
   },
   "outputs": [],
   "source": [
    "mahalanobis_recall = recall_score(mahalanobis_targets, mahalanobis_predictions)\n",
    "isoforest_recall = recall_score(isoforest_targets, isoforest_predictions)\n",
    "regression_recall = recall_score(regression_targets, regression_predictions)\n",
    "pca_knn_recall = recall_score(pca_knn_targets, pca_knn_predictions)\n",
    "pca_lof_recall = recall_score(pca_lof_targets, pca_lof_predictions)"
   ]
  },
  {
   "cell_type": "markdown",
   "metadata": {},
   "source": [
    "Another important metric for us to compute is precision. This will show us how many of the instances that we flagged as anomalies were actually anomalies."
   ]
  },
  {
   "cell_type": "code",
   "execution_count": 5,
   "metadata": {},
   "outputs": [],
   "source": [
    "mahalanobis_precision = precision_score(mahalanobis_targets, mahalanobis_predictions)\n",
    "isoforest_precision = precision_score(isoforest_targets, isoforest_predictions)\n",
    "regression_precision = precision_score(regression_targets, regression_predictions)\n",
    "pca_knn_precision = precision_score(pca_knn_targets, pca_knn_predictions)\n",
    "pca_lof_precision = precision_score(pca_lof_targets, pca_lof_predictions)"
   ]
  },
  {
   "cell_type": "markdown",
   "metadata": {},
   "source": [
    "Our final metric will embody both precision and recall in a single score. The receiver operating characteristic curve is a plot of recall vs. precision at all thresholds. The AUROC metric takes the area under the ROC curve, presenting a simple metric between 0 and 1.0 for evaluating classification performance."
   ]
  },
  {
   "cell_type": "code",
   "execution_count": 6,
   "metadata": {},
   "outputs": [],
   "source": [
    "mahalanobis_auroc = roc_auc_score(mahalanobis_targets, mahalanobis_predictions)\n",
    "isoforest_auroc = roc_auc_score(isoforest_targets, isoforest_predictions)\n",
    "regression_auroc = roc_auc_score(regression_targets, regression_predictions)\n",
    "pca_knn_auroc = roc_auc_score(pca_knn_targets, pca_knn_predictions)\n",
    "pca_lof_auroc = roc_auc_score(pca_lof_targets, pca_lof_predictions)"
   ]
  },
  {
   "cell_type": "markdown",
   "metadata": {},
   "source": [
    "Let's combine each of these metrics into a single table."
   ]
  },
  {
   "cell_type": "code",
   "execution_count": 7,
   "metadata": {
    "scrolled": true
   },
   "outputs": [
    {
     "data": {
      "text/html": [
       "<div>\n",
       "<style scoped>\n",
       "    .dataframe tbody tr th:only-of-type {\n",
       "        vertical-align: middle;\n",
       "    }\n",
       "\n",
       "    .dataframe tbody tr th {\n",
       "        vertical-align: top;\n",
       "    }\n",
       "\n",
       "    .dataframe thead th {\n",
       "        text-align: right;\n",
       "    }\n",
       "</style>\n",
       "<table border=\"1\" class=\"dataframe\">\n",
       "  <thead>\n",
       "    <tr style=\"text-align: right;\">\n",
       "      <th></th>\n",
       "      <th>Method</th>\n",
       "      <th>Precision</th>\n",
       "      <th>Recall</th>\n",
       "      <th>AUROC</th>\n",
       "    </tr>\n",
       "  </thead>\n",
       "  <tbody>\n",
       "    <tr>\n",
       "      <th>0</th>\n",
       "      <td>Mahalanobis Distances</td>\n",
       "      <td>0.284191</td>\n",
       "      <td>0.137614</td>\n",
       "      <td>0.526265</td>\n",
       "    </tr>\n",
       "    <tr>\n",
       "      <th>1</th>\n",
       "      <td>Isolation Forests</td>\n",
       "      <td>0.197087</td>\n",
       "      <td>0.908791</td>\n",
       "      <td>0.500462</td>\n",
       "    </tr>\n",
       "    <tr>\n",
       "      <th>2</th>\n",
       "      <td>Multiple Linear Regression</td>\n",
       "      <td>0.909918</td>\n",
       "      <td>0.474172</td>\n",
       "      <td>0.731333</td>\n",
       "    </tr>\n",
       "    <tr>\n",
       "      <th>3</th>\n",
       "      <td>PCA K-Nearest Neighbors</td>\n",
       "      <td>0.196709</td>\n",
       "      <td>0.197260</td>\n",
       "      <td>0.499981</td>\n",
       "    </tr>\n",
       "    <tr>\n",
       "      <th>4</th>\n",
       "      <td>PCA Local Outlier Factor</td>\n",
       "      <td>0.179271</td>\n",
       "      <td>0.809819</td>\n",
       "      <td>0.452532</td>\n",
       "    </tr>\n",
       "  </tbody>\n",
       "</table>\n",
       "</div>"
      ],
      "text/plain": [
       "                       Method  Precision    Recall     AUROC\n",
       "0       Mahalanobis Distances   0.284191  0.137614  0.526265\n",
       "1           Isolation Forests   0.197087  0.908791  0.500462\n",
       "2  Multiple Linear Regression   0.909918  0.474172  0.731333\n",
       "3     PCA K-Nearest Neighbors   0.196709  0.197260  0.499981\n",
       "4    PCA Local Outlier Factor   0.179271  0.809819  0.452532"
      ]
     },
     "execution_count": 7,
     "metadata": {},
     "output_type": "execute_result"
    }
   ],
   "source": [
    "name_series    = pandas.Series(['Mahalanobis Distances', 'Isolation Forests', 'Multiple Linear Regression', 'PCA K-Nearest Neighbors', 'PCA Local Outlier Factor'])\n",
    "precision_series  = pandas.Series([mahalanobis_precision, isoforest_precision, regression_precision, pca_knn_precision, pca_lof_precision ])\n",
    "recall_series  = pandas.Series([mahalanobis_recall, isoforest_recall, regression_recall, pca_knn_recall, pca_lof_recall ])\n",
    "auroc_series = pandas.Series([mahalanobis_auroc, isoforest_auroc, regression_auroc, pca_knn_auroc, pca_lof_auroc ])\n",
    "\n",
    "metrics_frame = pandas.DataFrame({'Method' : name_series, 'Precision' : precision_series, 'Recall' : recall_series, 'AUROC' : auroc_series })\n",
    "metrics_frame"
   ]
  },
  {
   "cell_type": "markdown",
   "metadata": {},
   "source": [
    "For the evaluation of our models we have collected a series of three metrics, being precision, recall, and AUROC. As it relates to our intrusion detection task specifically, the recall metric is the most important to maximize. The primary goal of our task is to detect as many of the anomalies as possible to prevent attacks from causing damage to a system. With this in mind, it is made clear by our performance metrics that the Isolation Forest algorithm was the best at detecting anomalies, boasting a recall of 90.9%. The Local Outlier Factor method comes in second at a respectable 81.0% while the other three methods come up short.\n",
    "\n",
    "The methods with the lowest recall, being the Mahalanobis Distance method and the K-Nearest Neighbors method, tell us something about the nature of anomalous points in our dataset. These scores imply that malicous packet events occur in relatively close proximity to the distribution of packet events, and that the nearest neighbors to a malicious event plotted in our dataset's state space are often benign events rather than anomalies. This is an interesting characteristic in that the anomalies are apparently able to blend in, to some extent, with normal events.\n",
    "\n",
    "On the contrary, our two highest recall methods can also shed some light on the nature of our anomalous data. The Local Outlier Factor method relies directly on low local area densities to detect anomalies while the Isolation Forest method indirectly uses local area density to isolate anomalies in fewer steps than normal data. This implies that even if our network intrusion events occur in close proximity to benign events, they often tend to occur in areas of low density. This is a useful characteristic of malicious events to extract from these metrics.\n",
    "\n",
    "Taking a look at the precision column of our metric table reveals that most of our models produced a problematic number of false alarms. Even the Isolation Forest model with its impressive recall suffers from a precision of only 19.7%. This indicates that our best models have room to grow with additional refinement and tuning.\n",
    "\n",
    "It's very interesting to note the one model that attained a high level of precision along with a recall that isn't as abysmal as other models. The Multiple Linear Regression model achieved a precision of 91.0% and a recall of 47.4%. Looking at the AUROC metrics for each of our models, we can see that the Multiple Linear Regression model comes away with the best combined performance. This is promising. The intuitive next step beyond linear regression is the artificial neural network, and with these results my next step would be to try training a neural network for this task."
   ]
  },
  {
   "cell_type": "markdown",
   "metadata": {},
   "source": [
    "## Conclusions"
   ]
  },
  {
   "cell_type": "markdown",
   "metadata": {},
   "source": [
    "Machine learning techniques for anomaly detection can perform well on intrusion detection tasks. An analysis of our model performance indicates that attacks on our victim network are located in close proximity to benign network traffic events within the state space of our dataset, but that they tend to lie in regions of low density and that his characteristic can be exploited by certain types of models to detect anomalies with a high rate of recall. We also discovered that most of our models trigger an unsustainable number of false alarms and would require additional refinement.\n",
    "\n",
    "Further work in this area should not only continue to refine the existing models defined here, but would also attempt to apply new types of models to the same task. One such model that seems likely to be applied successfully is the artificial neural network. Another interesting type of model that might be fruitful when applied to our specific task would be an angle-based model. This model would compute the angles between a new point and pairs of its k nearest neighbors, using the assumption that points with smaller angles measured in such a manner are more likely to be anomalies. This may work well with the given dataset due to the tendency for anomalous points to exist in low density regions of the state space."
   ]
  },
  {
   "cell_type": "markdown",
   "metadata": {},
   "source": [
    "## References\n",
    "\n",
    "[1] Cansiz, S. (2021, April 17). Multivariate Outlier Detection in Python. Medium. https://towardsdatascience.com/multivariate-outlier-detection-in-python-e946cfc843b3. \n",
    "\n",
    "[2] Harris, C. R., Millman, K. J., Walt, S. J. van der, Gommers, R., Virtanen, P., Cournapeau, D., … Oliphant, T. E. (2020, September 16). Array programming with NumPy. Nature News. https://www.nature.com/articles/s41586-020-2649-2. \n",
    "\n",
    "[3] Pasricha, S. (2020, November). Anomaly Detection and Security. Embedded Systems and Machine Learning. Fort Collins, CO; Colorado State University. \n",
    "\n",
    "[4] Pedregosa, F., Profile, V., Varoquaux, G., Gramfort, A., Michel, V., Thirion, B., … Authors:   Fabian Pedregosa  View Profile. (2011, November 1). Scikit-learn: Machine Learning in Python. The Journal of Machine Learning Research. https://dl.acm.org/doi/10.5555/1953048.2078195. \n",
    "\n",
    "[5] Sharafaldin, I., Habibi Lashkari, A., &amp; Ghorbani, A. A. (2018). Toward Generating a New Intrusion Detection Dataset and Intrusion Traffic Characterization. Proceedings of the 4th International Conference on Information Systems Security and Privacy. https://doi.org/10.5220/0006639801080116 \n",
    "\n",
    "[6] Virtanen P;Gommers R;Oliphant TE;Haberland M;Reddy T;Cournapeau D;Burovski E;Peterson P;Weckesser W;Bright J;van der Walt SJ;Brett M;Wilson J;Millman KJ;Mayorov N;Nelson ARJ;Jones E;Kern R;Larson E;Carey CJ;Polat İ;Feng Y;Moore EW;VanderPlas J;Laxalde D;P. (n.d.). SciPy 1.0: fundamental algorithms for scientific computing in Python. Nature methods. https://pubmed.ncbi.nlm.nih.gov/32015543/. "
   ]
  },
  {
   "cell_type": "markdown",
   "metadata": {},
   "source": [
    "## About this notebook\n",
    "\n",
    "**Author:** Christian Westbrook, Colorado State University  \n",
    "**Published:** April 28th, 2020"
   ]
  }
 ],
 "metadata": {
  "kernelspec": {
   "display_name": "Python 3",
   "language": "python",
   "name": "python3"
  },
  "language_info": {
   "codemirror_mode": {
    "name": "ipython",
    "version": 3
   },
   "file_extension": ".py",
   "mimetype": "text/x-python",
   "name": "python",
   "nbconvert_exporter": "python",
   "pygments_lexer": "ipython3",
   "version": "3.8.3"
  }
 },
 "nbformat": 4,
 "nbformat_minor": 4
}
